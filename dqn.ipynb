{
 "cells": [
  {
   "cell_type": "markdown",
   "metadata": {},
   "source": [
    "**You may need to install [OpenCV](https://pypi.python.org/pypi/opencv-python) and [scikit-video](http://www.scikit-video.org/stable/).**"
   ]
  },
  {
   "cell_type": "code",
   "execution_count": 1,
   "metadata": {
    "ExecuteTime": {
     "end_time": "2020-02-23T11:58:39.689632Z",
     "start_time": "2020-02-23T11:58:39.570289Z"
    }
   },
   "outputs": [
    {
     "data": {
      "application/javascript": [
       "\n",
       "            setTimeout(function() {\n",
       "                var nbb_cell_id = 1;\n",
       "                var nbb_unformatted_code = \"# autoformatting\\n%load_ext nb_black\";\n",
       "                var nbb_formatted_code = \"# autoformatting\\n%load_ext nb_black\";\n",
       "                var nbb_cells = Jupyter.notebook.get_cells();\n",
       "                for (var i = 0; i < nbb_cells.length; ++i) {\n",
       "                    if (nbb_cells[i].input_prompt_number == nbb_cell_id) {\n",
       "                        if (nbb_cells[i].get_text() == nbb_unformatted_code) {\n",
       "                             nbb_cells[i].set_text(nbb_formatted_code);\n",
       "                        }\n",
       "                        break;\n",
       "                    }\n",
       "                }\n",
       "            }, 500);\n",
       "            "
      ],
      "text/plain": [
       "<IPython.core.display.Javascript object>"
      ]
     },
     "metadata": {},
     "output_type": "display_data"
    }
   ],
   "source": [
    "# autoformatting\n",
    "%load_ext nb_black"
   ]
  },
  {
   "cell_type": "code",
   "execution_count": 2,
   "metadata": {
    "ExecuteTime": {
     "end_time": "2020-02-23T11:59:08.465915Z",
     "start_time": "2020-02-23T11:59:01.901453Z"
    }
   },
   "outputs": [
    {
     "data": {
      "application/javascript": [
       "\n",
       "            setTimeout(function() {\n",
       "                var nbb_cell_id = 2;\n",
       "                var nbb_unformatted_code = \"import json\\nimport io\\n\\nimport numpy as np\\nimport base64\\nfrom IPython.display import HTML\\nimport skvideo.io\\nimport cv2\\n\\nimport tensorflow.keras as keras\\nfrom tensorflow.keras.models import Sequential, model_from_json\\nfrom tensorflow.keras.layers import Dense\\nfrom tensorflow.keras.optimizers import SGD\\nfrom tensorflow.keras.layers import (\\n    Flatten,\\n    Activation,\\n    Conv2D,\\n)\";\n",
       "                var nbb_formatted_code = \"import json\\nimport io\\n\\nimport numpy as np\\nimport base64\\nfrom IPython.display import HTML\\nimport skvideo.io\\nimport cv2\\n\\nimport tensorflow.keras as keras\\nfrom tensorflow.keras.models import Sequential, model_from_json\\nfrom tensorflow.keras.layers import Dense\\nfrom tensorflow.keras.optimizers import SGD\\nfrom tensorflow.keras.layers import (\\n    Flatten,\\n    Activation,\\n    Conv2D,\\n)\";\n",
       "                var nbb_cells = Jupyter.notebook.get_cells();\n",
       "                for (var i = 0; i < nbb_cells.length; ++i) {\n",
       "                    if (nbb_cells[i].input_prompt_number == nbb_cell_id) {\n",
       "                        if (nbb_cells[i].get_text() == nbb_unformatted_code) {\n",
       "                             nbb_cells[i].set_text(nbb_formatted_code);\n",
       "                        }\n",
       "                        break;\n",
       "                    }\n",
       "                }\n",
       "            }, 500);\n",
       "            "
      ],
      "text/plain": [
       "<IPython.core.display.Javascript object>"
      ]
     },
     "metadata": {},
     "output_type": "display_data"
    }
   ],
   "source": [
    "import json\n",
    "import io\n",
    "\n",
    "import numpy as np\n",
    "import base64\n",
    "from IPython.display import HTML\n",
    "import skvideo.io\n",
    "import cv2\n",
    "\n",
    "import tensorflow.keras as keras\n",
    "from tensorflow.keras.models import Sequential, model_from_json\n",
    "from tensorflow.keras.layers import Dense\n",
    "from tensorflow.keras.optimizers import SGD\n",
    "from tensorflow.keras.layers import (\n",
    "    Flatten,\n",
    "    Activation,\n",
    "    Conv2D,\n",
    ")"
   ]
  },
  {
   "cell_type": "markdown",
   "metadata": {},
   "source": [
    "# MiniProject on Deep Reinforcement Learning"
   ]
  },
  {
   "cell_type": "markdown",
   "metadata": {},
   "source": [
    "__Notations__: $E_p$ is the expectation under probability $p$. Please justify each of your answer and widely comment your code."
   ]
  },
  {
   "cell_type": "markdown",
   "metadata": {},
   "source": [
    "# Context"
   ]
  },
  {
   "cell_type": "markdown",
   "metadata": {},
   "source": [
    "In a reinforcement learning algorithm, we modelize each step $t$ as an action $a_t$ obtained from a state $s_t$, i.e. $\\{(a_{t},s_{t})_{t\\leq T}\\}$ having the Markov property. We consider a discount factor $\\gamma \\in [0,1]$ that ensures convergence. The goal is to find among all the policies $\\pi$, one that maximizes the expected reward:\n",
    "\n",
    "\\begin{equation*}\n",
    "R(\\pi)=\\sum_{t\\leq T}E_{p^{\\pi}}[\\gamma^t r(s_{t},a_{t})] \\> ,\n",
    "\\end{equation*}\n",
    "\n",
    "where: \n",
    "\\begin{equation*}p^{\\pi}(a_{0},a_{1},s_{1},...,a_{T},s_{T})=p(a_{0})\\prod_{t=1}^{T}\\pi(a_{t}|s_{t})p(s_{t+1}|s_{t},a_{t}) \\> .\n",
    "\\end{equation*}\n",
    "\n",
    "We note the $Q$-function:\n",
    "\n",
    "\\begin{equation*}Q^\\pi(s,a)=E_{p^{\\pi}}[\\sum_{t\\leq T}\\gamma^{t}r(s_{t},a_{t})|s_{0}=s,a_{0}=a] \\> .\n",
    "\\end{equation*}\n",
    "\n",
    "Thus, the optimal Q function is:\n",
    "\\begin{equation*}\n",
    "Q^*(s,a)=\\max_{\\pi}Q^\\pi(s,a) \\> .\n",
    "\\end{equation*}\n",
    "\n",
    "In this project, we will apply the deep reinforcement learning techniques to a simple game: an agent will have to learn from scratch a policy that will permit it maximizing a reward."
   ]
  },
  {
   "cell_type": "markdown",
   "metadata": {},
   "source": [
    "## The environment, the agent and the game"
   ]
  },
  {
   "cell_type": "markdown",
   "metadata": {},
   "source": [
    "### The environment"
   ]
  },
  {
   "cell_type": "markdown",
   "metadata": {},
   "source": [
    "```Environment``` is an abstract class that represents the states, rewards, and actions to obtain the new state."
   ]
  },
  {
   "cell_type": "code",
   "execution_count": 3,
   "metadata": {
    "ExecuteTime": {
     "end_time": "2020-02-23T11:59:10.271823Z",
     "start_time": "2020-02-23T11:59:10.256732Z"
    }
   },
   "outputs": [
    {
     "data": {
      "application/javascript": [
       "\n",
       "            setTimeout(function() {\n",
       "                var nbb_cell_id = 3;\n",
       "                var nbb_unformatted_code = \"class EnvironmentAbstract(object):\\n    def __init__(self):\\n        raise NotImplementedError()\\n\\n    def act(self, act):\\n        \\\"\\\"\\\"\\n        One can act on the environment and obtain its reaction:\\n        - the new state\\n        - the reward of the new state\\n        - should we continue the game?\\n\\n        :return: state, reward, game_over\\n        \\\"\\\"\\\"\\n        raise NotImplementedError()\\n\\n    def reset(self):\\n        \\\"\\\"\\\"\\n        Reinitialize the environment to a random state and returns\\n        the original state\\n\\n        :return: state\\n        \\\"\\\"\\\"\\n        raise NotImplementedError()\\n\\n    def draw(self):\\n        \\\"\\\"\\\"\\n        Visualize in the console or graphically the current state\\n        \\\"\\\"\\\"\\n        raise NotImplementedError()\";\n",
       "                var nbb_formatted_code = \"class EnvironmentAbstract(object):\\n    def __init__(self):\\n        raise NotImplementedError()\\n\\n    def act(self, act):\\n        \\\"\\\"\\\"\\n        One can act on the environment and obtain its reaction:\\n        - the new state\\n        - the reward of the new state\\n        - should we continue the game?\\n\\n        :return: state, reward, game_over\\n        \\\"\\\"\\\"\\n        raise NotImplementedError()\\n\\n    def reset(self):\\n        \\\"\\\"\\\"\\n        Reinitialize the environment to a random state and returns\\n        the original state\\n\\n        :return: state\\n        \\\"\\\"\\\"\\n        raise NotImplementedError()\\n\\n    def draw(self):\\n        \\\"\\\"\\\"\\n        Visualize in the console or graphically the current state\\n        \\\"\\\"\\\"\\n        raise NotImplementedError()\";\n",
       "                var nbb_cells = Jupyter.notebook.get_cells();\n",
       "                for (var i = 0; i < nbb_cells.length; ++i) {\n",
       "                    if (nbb_cells[i].input_prompt_number == nbb_cell_id) {\n",
       "                        if (nbb_cells[i].get_text() == nbb_unformatted_code) {\n",
       "                             nbb_cells[i].set_text(nbb_formatted_code);\n",
       "                        }\n",
       "                        break;\n",
       "                    }\n",
       "                }\n",
       "            }, 500);\n",
       "            "
      ],
      "text/plain": [
       "<IPython.core.display.Javascript object>"
      ]
     },
     "metadata": {},
     "output_type": "display_data"
    }
   ],
   "source": [
    "class EnvironmentAbstract(object):\n",
    "    def __init__(self):\n",
    "        raise NotImplementedError()\n",
    "\n",
    "    def act(self, act):\n",
    "        \"\"\"\n",
    "        One can act on the environment and obtain its reaction:\n",
    "        - the new state\n",
    "        - the reward of the new state\n",
    "        - should we continue the game?\n",
    "\n",
    "        :return: state, reward, game_over\n",
    "        \"\"\"\n",
    "        raise NotImplementedError()\n",
    "\n",
    "    def reset(self):\n",
    "        \"\"\"\n",
    "        Reinitialize the environment to a random state and returns\n",
    "        the original state\n",
    "\n",
    "        :return: state\n",
    "        \"\"\"\n",
    "        raise NotImplementedError()\n",
    "\n",
    "    def draw(self):\n",
    "        \"\"\"\n",
    "        Visualize in the console or graphically the current state\n",
    "        \"\"\"\n",
    "        raise NotImplementedError()"
   ]
  },
  {
   "cell_type": "markdown",
   "metadata": {},
   "source": [
    "The method ```act``` allows to act on the environment at a given state $s_t$ (stored internally), via action $a_t$. The method will return the new state $s_{t+1}$, the reward $r(s_{t},a_{t})$ and determines if $t\\leq T$ (*game_over*).\n",
    "\n",
    "The method ```reset``` simply reinitializes the environment to a random state $s_0$.\n",
    "\n",
    "The method ```draw``` displays the current state $s_t$ (this is useful to check the behavior of the Agent).\n",
    "\n",
    "We modelize $s_t$ as a tensor, while $a_t$ is an integer."
   ]
  },
  {
   "cell_type": "markdown",
   "metadata": {},
   "source": [
    "### The Agent"
   ]
  },
  {
   "cell_type": "markdown",
   "metadata": {},
   "source": [
    "The goal of the ```Agent``` is to interact with the ```Environment``` by proposing actions $a_t$ obtained from a given state $s_t$ to attempt to maximize its __reward__ $r(s_t,a_t)$. We propose the following abstract class:"
   ]
  },
  {
   "cell_type": "code",
   "execution_count": 4,
   "metadata": {
    "ExecuteTime": {
     "end_time": "2020-02-23T11:59:13.809308Z",
     "start_time": "2020-02-23T11:59:13.781436Z"
    }
   },
   "outputs": [
    {
     "data": {
      "application/javascript": [
       "\n",
       "            setTimeout(function() {\n",
       "                var nbb_cell_id = 4;\n",
       "                var nbb_unformatted_code = \"class AgentAbstract(object):\\n    def __init__(self, epsilon=0.1, n_action=4):\\n        self.epsilon = epsilon\\n        self.n_action = n_action\\n\\n    def set_epsilon(self, e):\\n        self.epsilon = e\\n\\n    def act(self, s, train=True):\\n        \\\"\\\"\\\" This function should return the next action to do:\\n        an integer between 0 and 4 (not included) with a random exploration of epsilon\\\"\\\"\\\"\\n        if train:\\n            if np.random.rand() <= self.epsilon:\\n                a = np.random.randint(0, self.n_action)\\n            else:\\n                a = self.learned_act(s)\\n        else:  # in some cases, this can improve the performance.. remove it if poor performances\\n            a = self.learned_act(s)\\n\\n        return a\\n\\n    def learned_act(self, s):\\n        \\\"\\\"\\\" Act via the policy of the agent, from a given state s\\n        it proposes an action a\\\"\\\"\\\"\\n        raise NotImplementedError()\\n\\n    def reinforce(self, s, n_s, a, r, game_over_):\\n        \\\"\\\"\\\" This function is the core of the learning algorithm. \\n        It takes as an input the current state s_, the next state n_s_\\n        the action a_ used to move from s_ to n_s_ and the reward r_.\\n        \\n        Its goal is to learn a policy.\\n        \\\"\\\"\\\"\\n        raise NotImplementedError()\\n\\n    def save(self):\\n        \\\"\\\"\\\" This function returns basic stats if applicable: the\\n        loss and/or the model\\\"\\\"\\\"\\n        raise NotImplementedError()\\n\\n    def load(self):\\n        \\\"\\\"\\\" This function allows to restore a model\\\"\\\"\\\"\\n        raise NotImplementedError()\";\n",
       "                var nbb_formatted_code = \"class AgentAbstract(object):\\n    def __init__(self, epsilon=0.1, n_action=4):\\n        self.epsilon = epsilon\\n        self.n_action = n_action\\n\\n    def set_epsilon(self, e):\\n        self.epsilon = e\\n\\n    def act(self, s, train=True):\\n        \\\"\\\"\\\" This function should return the next action to do:\\n        an integer between 0 and 4 (not included) with a random exploration of epsilon\\\"\\\"\\\"\\n        if train:\\n            if np.random.rand() <= self.epsilon:\\n                a = np.random.randint(0, self.n_action)\\n            else:\\n                a = self.learned_act(s)\\n        else:  # in some cases, this can improve the performance.. remove it if poor performances\\n            a = self.learned_act(s)\\n\\n        return a\\n\\n    def learned_act(self, s):\\n        \\\"\\\"\\\" Act via the policy of the agent, from a given state s\\n        it proposes an action a\\\"\\\"\\\"\\n        raise NotImplementedError()\\n\\n    def reinforce(self, s, n_s, a, r, game_over_):\\n        \\\"\\\"\\\" This function is the core of the learning algorithm. \\n        It takes as an input the current state s_, the next state n_s_\\n        the action a_ used to move from s_ to n_s_ and the reward r_.\\n        \\n        Its goal is to learn a policy.\\n        \\\"\\\"\\\"\\n        raise NotImplementedError()\\n\\n    def save(self):\\n        \\\"\\\"\\\" This function returns basic stats if applicable: the\\n        loss and/or the model\\\"\\\"\\\"\\n        raise NotImplementedError()\\n\\n    def load(self):\\n        \\\"\\\"\\\" This function allows to restore a model\\\"\\\"\\\"\\n        raise NotImplementedError()\";\n",
       "                var nbb_cells = Jupyter.notebook.get_cells();\n",
       "                for (var i = 0; i < nbb_cells.length; ++i) {\n",
       "                    if (nbb_cells[i].input_prompt_number == nbb_cell_id) {\n",
       "                        if (nbb_cells[i].get_text() == nbb_unformatted_code) {\n",
       "                             nbb_cells[i].set_text(nbb_formatted_code);\n",
       "                        }\n",
       "                        break;\n",
       "                    }\n",
       "                }\n",
       "            }, 500);\n",
       "            "
      ],
      "text/plain": [
       "<IPython.core.display.Javascript object>"
      ]
     },
     "metadata": {},
     "output_type": "display_data"
    }
   ],
   "source": [
    "class AgentAbstract(object):\n",
    "    def __init__(self, epsilon=0.1, n_action=4):\n",
    "        self.epsilon = epsilon\n",
    "        self.n_action = n_action\n",
    "\n",
    "    def set_epsilon(self, e):\n",
    "        self.epsilon = e\n",
    "\n",
    "    def act(self, s, train=True):\n",
    "        \"\"\" This function should return the next action to do:\n",
    "        an integer between 0 and 4 (not included) with a random exploration of epsilon\"\"\"\n",
    "        if train:\n",
    "            if np.random.rand() <= self.epsilon:\n",
    "                a = np.random.randint(0, self.n_action)\n",
    "            else:\n",
    "                a = self.learned_act(s)\n",
    "        else:  # in some cases, this can improve the performance.. remove it if poor performances\n",
    "            a = self.learned_act(s)\n",
    "\n",
    "        return a\n",
    "\n",
    "    def learned_act(self, s):\n",
    "        \"\"\" Act via the policy of the agent, from a given state s\n",
    "        it proposes an action a\"\"\"\n",
    "        raise NotImplementedError()\n",
    "\n",
    "    def reinforce(self, s, n_s, a, r, game_over_):\n",
    "        \"\"\" This function is the core of the learning algorithm. \n",
    "        It takes as an input the current state s_, the next state n_s_\n",
    "        the action a_ used to move from s_ to n_s_ and the reward r_.\n",
    "        \n",
    "        Its goal is to learn a policy.\n",
    "        \"\"\"\n",
    "        raise NotImplementedError()\n",
    "\n",
    "    def save(self):\n",
    "        \"\"\" This function returns basic stats if applicable: the\n",
    "        loss and/or the model\"\"\"\n",
    "        raise NotImplementedError()\n",
    "\n",
    "    def load(self):\n",
    "        \"\"\" This function allows to restore a model\"\"\"\n",
    "        raise NotImplementedError()"
   ]
  },
  {
   "cell_type": "markdown",
   "metadata": {},
   "source": [
    "***\n",
    "__Question 1__:\n",
    "Explain the function act. Why is ```epsilon``` essential?"
   ]
  },
  {
   "cell_type": "markdown",
   "metadata": {},
   "source": [
    "Here's what the function `act` does:\n",
    "\n",
    "- during the training phase:\n",
    "\n",
    "    - with probability `epsilon`, we take a random action\n",
    "    - with probability `1 - epsilon`, we used our current policy to take the \"best\" possible action\n",
    "\n",
    "- during the evaluation phase, we always use our trained policy to take the best possible action.\n",
    "\n",
    "\n",
    "`epsilon` is essential because it gives us control over the exploration/exploitation trade-off during the training phase:\n",
    "\n",
    "- exploration: taking possibly non-optimal actions to explore new ways of interacting with the environment, hopefully discovering better ways of getting reward in the process\n",
    "\n",
    "- exploitation: using our current policy to take what the agent believes is the best action in order to maximize its reward''\n",
    "\n",
    "If `epsilon` is too high, the agent won't train, because it won't take enough good actions to discover the optimal strategy (which is a succession of good actions).\n",
    "\n",
    "If `epsilon` is too low, the agent won't train either, because it will be heavily biased towards its initial policy and won't explore enough new ways of interacting with the world to discover the optimal strategy."
   ]
  },
  {
   "cell_type": "markdown",
   "metadata": {},
   "source": [
    "***\n",
    "### The Game"
   ]
  },
  {
   "cell_type": "markdown",
   "metadata": {},
   "source": [
    "The ```Agent``` and the ```Environment``` work in an interlaced way as in the following (take some time to understand this code as it is the core of the project)\n",
    "\n",
    "```python\n",
    "\n",
    "epoch = 300\n",
    "env = Environment()\n",
    "agent = Agent()\n",
    "\n",
    "\n",
    "# Number of won games\n",
    "score = 0\n",
    "loss = 0\n",
    "\n",
    "\n",
    "for e in range(epoch):\n",
    "    # At each epoch, we restart to a fresh game and get the initial state\n",
    "    state = env.reset()\n",
    "    # This assumes that the games will end\n",
    "    game_over = False\n",
    "\n",
    "    win = 0\n",
    "    lose = 0\n",
    "    \n",
    "    while not game_over:\n",
    "        # The agent performs an action\n",
    "        action = agent.act(state)\n",
    "\n",
    "        # Apply an action to the environment, get the next state, the reward\n",
    "        # and if the games end\n",
    "        prev_state = state\n",
    "        state, reward, game_over = env.act(action)\n",
    "\n",
    "        # Update the counters\n",
    "        if reward > 0:\n",
    "            win = win + reward\n",
    "        if reward < 0:\n",
    "            lose = lose -reward\n",
    "\n",
    "        # Apply the reinforcement strategy\n",
    "        loss = agent.reinforce(prev_state, state,  action, reward, game_over)\n",
    "\n",
    "    # Save as a mp4\n",
    "    if e % 10 == 0:\n",
    "        env.draw(e)\n",
    "\n",
    "    # Update stats\n",
    "    score += win-lose\n",
    "\n",
    "    print(\"Epoch {:03d}/{:03d} | Loss {:.4f} | Win/lose count {}/{} ({})\"\n",
    "          .format(e, epoch, loss, win, lose, win-lose))\n",
    "    agent.save()\n",
    "```"
   ]
  },
  {
   "cell_type": "markdown",
   "metadata": {},
   "source": [
    "# The game, *eat cheese*"
   ]
  },
  {
   "cell_type": "markdown",
   "metadata": {},
   "source": [
    "A rat runs on an island and tries to eat as much as possible. The island is subdivided into $N\\times N$ cells, in which there are cheese (+0.5) and poisonous cells (-1). The rat has a visibility of 2 cells (thus it can see $5^2$ cells). The rat is given a time $T$ to accumulate as much food as possible. It can perform 4 actions: going up, down, left, right. \n",
    "\n",
    "The goal is to code an agent to solve this task that will learn by trial and error. We propose the following environment:"
   ]
  },
  {
   "cell_type": "code",
   "execution_count": 5,
   "metadata": {
    "ExecuteTime": {
     "end_time": "2020-02-23T11:59:23.629577Z",
     "start_time": "2020-02-23T11:59:23.502238Z"
    }
   },
   "outputs": [
    {
     "data": {
      "application/javascript": [
       "\n",
       "            setTimeout(function() {\n",
       "                var nbb_cell_id = 5;\n",
       "                var nbb_unformatted_code = \"class Environment(EnvironmentAbstract):\\n    def __init__(self, grid_size=10, max_time=500, temperature=0.1):\\n        grid_size = grid_size + 4\\n        self.grid_size = grid_size\\n        self.max_time = max_time\\n        self.temperature = temperature\\n\\n        # board on which one plays\\n        self.board = np.zeros((grid_size, grid_size))\\n        self.position = np.zeros((grid_size, grid_size))\\n\\n        # coordinate of the cat\\n        self.x = 0\\n        self.y = 1\\n\\n        # self time\\n        self.t = 0\\n\\n        self.scale = 16\\n\\n        self.to_draw = np.zeros(\\n            (max_time + 2, grid_size * self.scale, grid_size * self.scale, 3)\\n        )\\n\\n    def draw(self, e):\\n        skvideo.io.vwrite(str(e) + \\\".mp4\\\", self.to_draw)\\n\\n    def get_frame(self, t):\\n        b = np.zeros((self.grid_size, self.grid_size, 3)) + 128\\n        b[self.board > 0, 0] = 256\\n        b[self.board < 0, 2] = 256\\n        b[self.x, self.y, :] = 256\\n        b[-2:, :, :] = 0\\n        b[:, -2:, :] = 0\\n        b[:2, :, :] = 0\\n        b[:, :2, :] = 0\\n\\n        b = cv2.resize(\\n            b, None, fx=self.scale, fy=self.scale, interpolation=cv2.INTER_NEAREST\\n        )\\n\\n        self.to_draw[t, :, :, :] = b\\n\\n    def act(self, action):\\n        \\\"\\\"\\\"This function returns the new state, reward and decides if the\\n        game ends.\\\"\\\"\\\"\\n\\n        self.get_frame(int(self.t))\\n\\n        self.position = np.zeros((self.grid_size, self.grid_size))\\n\\n        self.position[0:2, :] = -1\\n        self.position[:, 0:2] = -1\\n        self.position[-2:, :] = -1\\n        self.position[-2:, :] = -1\\n\\n        self.position[self.x, self.y] = 1\\n        if action == 0:\\n            if self.x == self.grid_size - 3:\\n                self.x = self.x - 1\\n            else:\\n                self.x = self.x + 1\\n        elif action == 1:\\n            if self.x == 2:\\n                self.x = self.x + 1\\n            else:\\n                self.x = self.x - 1\\n        elif action == 2:\\n            if self.y == self.grid_size - 3:\\n                self.y = self.y - 1\\n            else:\\n                self.y = self.y + 1\\n        elif action == 3:\\n            if self.y == 2:\\n                self.y = self.y + 1\\n            else:\\n                self.y = self.y - 1\\n        else:\\n            RuntimeError(\\\"Error: action not recognized\\\")\\n\\n        self.t = self.t + 1\\n        reward = self.board[self.x, self.y]\\n        self.board[self.x, self.y] = 0\\n        game_over = self.t > self.max_time\\n        state = np.concatenate(\\n            (\\n                self.board.reshape(self.grid_size, self.grid_size, 1),\\n                self.position.reshape(self.grid_size, self.grid_size, 1),\\n            ),\\n            axis=2,\\n        )\\n        state = state[self.x - 2 : self.x + 3, self.y - 2 : self.y + 3, :]\\n\\n        return state, reward, game_over\\n\\n    def reset(self):\\n        \\\"\\\"\\\"This function resets the game and returns the initial state\\\"\\\"\\\"\\n\\n        self.x = np.random.randint(3, self.grid_size - 3, size=1)[0]\\n        self.y = np.random.randint(3, self.grid_size - 3, size=1)[0]\\n\\n        bonus = 0.5 * np.random.binomial(1, self.temperature, size=self.grid_size ** 2)\\n        bonus = bonus.reshape(self.grid_size, self.grid_size)\\n\\n        malus = -1.0 * np.random.binomial(1, self.temperature, size=self.grid_size ** 2)\\n        malus = malus.reshape(self.grid_size, self.grid_size)\\n\\n        self.to_draw = np.zeros(\\n            (\\n                self.max_time + 2,\\n                self.grid_size * self.scale,\\n                self.grid_size * self.scale,\\n                3,\\n            )\\n        )\\n\\n        malus[bonus > 0] = 0\\n\\n        self.board = bonus + malus\\n\\n        self.position = np.zeros((self.grid_size, self.grid_size))\\n        self.position[0:2, :] = -1\\n        self.position[:, 0:2] = -1\\n        self.position[-2:, :] = -1\\n        self.position[-2:, :] = -1\\n        self.board[self.x, self.y] = 0\\n        self.t = 0\\n\\n        state = np.concatenate(\\n            (\\n                self.board.reshape(self.grid_size, self.grid_size, 1),\\n                self.position.reshape(self.grid_size, self.grid_size, 1),\\n            ),\\n            axis=2,\\n        )\\n\\n        state = state[self.x - 2 : self.x + 3, self.y - 2 : self.y + 3, :]\\n        return state\";\n",
       "                var nbb_formatted_code = \"class Environment(EnvironmentAbstract):\\n    def __init__(self, grid_size=10, max_time=500, temperature=0.1):\\n        grid_size = grid_size + 4\\n        self.grid_size = grid_size\\n        self.max_time = max_time\\n        self.temperature = temperature\\n\\n        # board on which one plays\\n        self.board = np.zeros((grid_size, grid_size))\\n        self.position = np.zeros((grid_size, grid_size))\\n\\n        # coordinate of the cat\\n        self.x = 0\\n        self.y = 1\\n\\n        # self time\\n        self.t = 0\\n\\n        self.scale = 16\\n\\n        self.to_draw = np.zeros(\\n            (max_time + 2, grid_size * self.scale, grid_size * self.scale, 3)\\n        )\\n\\n    def draw(self, e):\\n        skvideo.io.vwrite(str(e) + \\\".mp4\\\", self.to_draw)\\n\\n    def get_frame(self, t):\\n        b = np.zeros((self.grid_size, self.grid_size, 3)) + 128\\n        b[self.board > 0, 0] = 256\\n        b[self.board < 0, 2] = 256\\n        b[self.x, self.y, :] = 256\\n        b[-2:, :, :] = 0\\n        b[:, -2:, :] = 0\\n        b[:2, :, :] = 0\\n        b[:, :2, :] = 0\\n\\n        b = cv2.resize(\\n            b, None, fx=self.scale, fy=self.scale, interpolation=cv2.INTER_NEAREST\\n        )\\n\\n        self.to_draw[t, :, :, :] = b\\n\\n    def act(self, action):\\n        \\\"\\\"\\\"This function returns the new state, reward and decides if the\\n        game ends.\\\"\\\"\\\"\\n\\n        self.get_frame(int(self.t))\\n\\n        self.position = np.zeros((self.grid_size, self.grid_size))\\n\\n        self.position[0:2, :] = -1\\n        self.position[:, 0:2] = -1\\n        self.position[-2:, :] = -1\\n        self.position[-2:, :] = -1\\n\\n        self.position[self.x, self.y] = 1\\n        if action == 0:\\n            if self.x == self.grid_size - 3:\\n                self.x = self.x - 1\\n            else:\\n                self.x = self.x + 1\\n        elif action == 1:\\n            if self.x == 2:\\n                self.x = self.x + 1\\n            else:\\n                self.x = self.x - 1\\n        elif action == 2:\\n            if self.y == self.grid_size - 3:\\n                self.y = self.y - 1\\n            else:\\n                self.y = self.y + 1\\n        elif action == 3:\\n            if self.y == 2:\\n                self.y = self.y + 1\\n            else:\\n                self.y = self.y - 1\\n        else:\\n            RuntimeError(\\\"Error: action not recognized\\\")\\n\\n        self.t = self.t + 1\\n        reward = self.board[self.x, self.y]\\n        self.board[self.x, self.y] = 0\\n        game_over = self.t > self.max_time\\n        state = np.concatenate(\\n            (\\n                self.board.reshape(self.grid_size, self.grid_size, 1),\\n                self.position.reshape(self.grid_size, self.grid_size, 1),\\n            ),\\n            axis=2,\\n        )\\n        state = state[self.x - 2 : self.x + 3, self.y - 2 : self.y + 3, :]\\n\\n        return state, reward, game_over\\n\\n    def reset(self):\\n        \\\"\\\"\\\"This function resets the game and returns the initial state\\\"\\\"\\\"\\n\\n        self.x = np.random.randint(3, self.grid_size - 3, size=1)[0]\\n        self.y = np.random.randint(3, self.grid_size - 3, size=1)[0]\\n\\n        bonus = 0.5 * np.random.binomial(1, self.temperature, size=self.grid_size ** 2)\\n        bonus = bonus.reshape(self.grid_size, self.grid_size)\\n\\n        malus = -1.0 * np.random.binomial(1, self.temperature, size=self.grid_size ** 2)\\n        malus = malus.reshape(self.grid_size, self.grid_size)\\n\\n        self.to_draw = np.zeros(\\n            (\\n                self.max_time + 2,\\n                self.grid_size * self.scale,\\n                self.grid_size * self.scale,\\n                3,\\n            )\\n        )\\n\\n        malus[bonus > 0] = 0\\n\\n        self.board = bonus + malus\\n\\n        self.position = np.zeros((self.grid_size, self.grid_size))\\n        self.position[0:2, :] = -1\\n        self.position[:, 0:2] = -1\\n        self.position[-2:, :] = -1\\n        self.position[-2:, :] = -1\\n        self.board[self.x, self.y] = 0\\n        self.t = 0\\n\\n        state = np.concatenate(\\n            (\\n                self.board.reshape(self.grid_size, self.grid_size, 1),\\n                self.position.reshape(self.grid_size, self.grid_size, 1),\\n            ),\\n            axis=2,\\n        )\\n\\n        state = state[self.x - 2 : self.x + 3, self.y - 2 : self.y + 3, :]\\n        return state\";\n",
       "                var nbb_cells = Jupyter.notebook.get_cells();\n",
       "                for (var i = 0; i < nbb_cells.length; ++i) {\n",
       "                    if (nbb_cells[i].input_prompt_number == nbb_cell_id) {\n",
       "                        if (nbb_cells[i].get_text() == nbb_unformatted_code) {\n",
       "                             nbb_cells[i].set_text(nbb_formatted_code);\n",
       "                        }\n",
       "                        break;\n",
       "                    }\n",
       "                }\n",
       "            }, 500);\n",
       "            "
      ],
      "text/plain": [
       "<IPython.core.display.Javascript object>"
      ]
     },
     "metadata": {},
     "output_type": "display_data"
    }
   ],
   "source": [
    "class Environment(EnvironmentAbstract):\n",
    "    def __init__(self, grid_size=10, max_time=500, temperature=0.1):\n",
    "        grid_size = grid_size + 4\n",
    "        self.grid_size = grid_size\n",
    "        self.max_time = max_time\n",
    "        self.temperature = temperature\n",
    "\n",
    "        # board on which one plays\n",
    "        self.board = np.zeros((grid_size, grid_size))\n",
    "        self.position = np.zeros((grid_size, grid_size))\n",
    "\n",
    "        # coordinate of the cat\n",
    "        self.x = 0\n",
    "        self.y = 1\n",
    "\n",
    "        # self time\n",
    "        self.t = 0\n",
    "\n",
    "        self.scale = 16\n",
    "\n",
    "        self.to_draw = np.zeros(\n",
    "            (max_time + 2, grid_size * self.scale, grid_size * self.scale, 3)\n",
    "        )\n",
    "\n",
    "    def draw(self, e):\n",
    "        skvideo.io.vwrite(str(e) + \".mp4\", self.to_draw)\n",
    "\n",
    "    def get_frame(self, t):\n",
    "        b = np.zeros((self.grid_size, self.grid_size, 3)) + 128\n",
    "        b[self.board > 0, 0] = 256\n",
    "        b[self.board < 0, 2] = 256\n",
    "        b[self.x, self.y, :] = 256\n",
    "        b[-2:, :, :] = 0\n",
    "        b[:, -2:, :] = 0\n",
    "        b[:2, :, :] = 0\n",
    "        b[:, :2, :] = 0\n",
    "\n",
    "        b = cv2.resize(\n",
    "            b, None, fx=self.scale, fy=self.scale, interpolation=cv2.INTER_NEAREST\n",
    "        )\n",
    "\n",
    "        self.to_draw[t, :, :, :] = b\n",
    "\n",
    "    def act(self, action):\n",
    "        \"\"\"This function returns the new state, reward and decides if the\n",
    "        game ends.\"\"\"\n",
    "\n",
    "        self.get_frame(int(self.t))\n",
    "\n",
    "        self.position = np.zeros((self.grid_size, self.grid_size))\n",
    "\n",
    "        self.position[0:2, :] = -1\n",
    "        self.position[:, 0:2] = -1\n",
    "        self.position[-2:, :] = -1\n",
    "        self.position[-2:, :] = -1\n",
    "\n",
    "        self.position[self.x, self.y] = 1\n",
    "        if action == 0:\n",
    "            if self.x == self.grid_size - 3:\n",
    "                self.x = self.x - 1\n",
    "            else:\n",
    "                self.x = self.x + 1\n",
    "        elif action == 1:\n",
    "            if self.x == 2:\n",
    "                self.x = self.x + 1\n",
    "            else:\n",
    "                self.x = self.x - 1\n",
    "        elif action == 2:\n",
    "            if self.y == self.grid_size - 3:\n",
    "                self.y = self.y - 1\n",
    "            else:\n",
    "                self.y = self.y + 1\n",
    "        elif action == 3:\n",
    "            if self.y == 2:\n",
    "                self.y = self.y + 1\n",
    "            else:\n",
    "                self.y = self.y - 1\n",
    "        else:\n",
    "            RuntimeError(\"Error: action not recognized\")\n",
    "\n",
    "        self.t = self.t + 1\n",
    "        reward = self.board[self.x, self.y]\n",
    "        self.board[self.x, self.y] = 0\n",
    "        game_over = self.t > self.max_time\n",
    "        state = np.concatenate(\n",
    "            (\n",
    "                self.board.reshape(self.grid_size, self.grid_size, 1),\n",
    "                self.position.reshape(self.grid_size, self.grid_size, 1),\n",
    "            ),\n",
    "            axis=2,\n",
    "        )\n",
    "        state = state[self.x - 2 : self.x + 3, self.y - 2 : self.y + 3, :]\n",
    "\n",
    "        return state, reward, game_over\n",
    "\n",
    "    def reset(self):\n",
    "        \"\"\"This function resets the game and returns the initial state\"\"\"\n",
    "\n",
    "        self.x = np.random.randint(3, self.grid_size - 3, size=1)[0]\n",
    "        self.y = np.random.randint(3, self.grid_size - 3, size=1)[0]\n",
    "\n",
    "        bonus = 0.5 * np.random.binomial(1, self.temperature, size=self.grid_size ** 2)\n",
    "        bonus = bonus.reshape(self.grid_size, self.grid_size)\n",
    "\n",
    "        malus = -1.0 * np.random.binomial(1, self.temperature, size=self.grid_size ** 2)\n",
    "        malus = malus.reshape(self.grid_size, self.grid_size)\n",
    "\n",
    "        self.to_draw = np.zeros(\n",
    "            (\n",
    "                self.max_time + 2,\n",
    "                self.grid_size * self.scale,\n",
    "                self.grid_size * self.scale,\n",
    "                3,\n",
    "            )\n",
    "        )\n",
    "\n",
    "        malus[bonus > 0] = 0\n",
    "\n",
    "        self.board = bonus + malus\n",
    "\n",
    "        self.position = np.zeros((self.grid_size, self.grid_size))\n",
    "        self.position[0:2, :] = -1\n",
    "        self.position[:, 0:2] = -1\n",
    "        self.position[-2:, :] = -1\n",
    "        self.position[-2:, :] = -1\n",
    "        self.board[self.x, self.y] = 0\n",
    "        self.t = 0\n",
    "\n",
    "        state = np.concatenate(\n",
    "            (\n",
    "                self.board.reshape(self.grid_size, self.grid_size, 1),\n",
    "                self.position.reshape(self.grid_size, self.grid_size, 1),\n",
    "            ),\n",
    "            axis=2,\n",
    "        )\n",
    "\n",
    "        state = state[self.x - 2 : self.x + 3, self.y - 2 : self.y + 3, :]\n",
    "        return state"
   ]
  },
  {
   "cell_type": "markdown",
   "metadata": {},
   "source": [
    "The following elements are important because they correspond to the hyper parameters for this project:"
   ]
  },
  {
   "cell_type": "code",
   "execution_count": 6,
   "metadata": {
    "ExecuteTime": {
     "end_time": "2020-02-23T11:59:25.032125Z",
     "start_time": "2020-02-23T11:59:25.020380Z"
    }
   },
   "outputs": [
    {
     "data": {
      "application/javascript": [
       "\n",
       "            setTimeout(function() {\n",
       "                var nbb_cell_id = 6;\n",
       "                var nbb_unformatted_code = \"# display videos\\ndef display_videos(name):\\n    video = io.open(name, \\\"r+b\\\").read()\\n    encoded = base64.b64encode(video)\\n    return \\\"\\\"\\\"<video alt=\\\"test\\\" controls>\\n                <source src=\\\"data:video/mp4;base64,{0}\\\" type=\\\"video/mp4\\\" />\\n             </video>\\\"\\\"\\\".format(\\n        encoded.decode(\\\"ascii\\\")\\n    )\";\n",
       "                var nbb_formatted_code = \"# display videos\\ndef display_videos(name):\\n    video = io.open(name, \\\"r+b\\\").read()\\n    encoded = base64.b64encode(video)\\n    return \\\"\\\"\\\"<video alt=\\\"test\\\" controls>\\n                <source src=\\\"data:video/mp4;base64,{0}\\\" type=\\\"video/mp4\\\" />\\n             </video>\\\"\\\"\\\".format(\\n        encoded.decode(\\\"ascii\\\")\\n    )\";\n",
       "                var nbb_cells = Jupyter.notebook.get_cells();\n",
       "                for (var i = 0; i < nbb_cells.length; ++i) {\n",
       "                    if (nbb_cells[i].input_prompt_number == nbb_cell_id) {\n",
       "                        if (nbb_cells[i].get_text() == nbb_unformatted_code) {\n",
       "                             nbb_cells[i].set_text(nbb_formatted_code);\n",
       "                        }\n",
       "                        break;\n",
       "                    }\n",
       "                }\n",
       "            }, 500);\n",
       "            "
      ],
      "text/plain": [
       "<IPython.core.display.Javascript object>"
      ]
     },
     "metadata": {},
     "output_type": "display_data"
    }
   ],
   "source": [
    "# display videos\n",
    "def display_videos(name):\n",
    "    video = io.open(name, \"r+b\").read()\n",
    "    encoded = base64.b64encode(video)\n",
    "    return \"\"\"<video alt=\"test\" controls>\n",
    "                <source src=\"data:video/mp4;base64,{0}\" type=\"video/mp4\" />\n",
    "             </video>\"\"\".format(\n",
    "        encoded.decode(\"ascii\")\n",
    "    )"
   ]
  },
  {
   "cell_type": "markdown",
   "metadata": {},
   "source": [
    "__Question 2__ Explain the use of the arrays ```position``` and ```board```."
   ]
  },
  {
   "cell_type": "markdown",
   "metadata": {},
   "source": [
    "*Part 1*\n",
    "\n",
    "`position[x,y]` gives us some information about position `x,y`:\n",
    "    \n",
    "- `1`: rat position\n",
    "- `0`: empty square (ie, no wall)\n",
    "- `-1`: wall\n",
    "    \n",
    "A window of the `position` array is visible by the agent, as it's part of the state. The agent can use this part of the state to figure out that walking into walls is probably not a good idea.\n",
    "\n",
    "*Part 2*\n",
    "\n",
    "`board` is used to keep track of the rewards (positive or negative) that are still left on the board, `board[x,y]` can be any value in `[-1, 0.5, 0]`, the the rat walks on a square, it wins the reward stored in `board[x,y]` and then the value of `board[x,y]` is set to `0`.\n",
    "\n",
    "Like the `position` array, a window of the `board` array is visible by the agent."
   ]
  },
  {
   "cell_type": "markdown",
   "metadata": {},
   "source": [
    "## Random Agent"
   ]
  },
  {
   "cell_type": "markdown",
   "metadata": {},
   "source": [
    "***\n",
    "__Question 3__ Implement a random Agent (only ```learned_act``` needs to be implemented):"
   ]
  },
  {
   "cell_type": "code",
   "execution_count": 7,
   "metadata": {
    "ExecuteTime": {
     "end_time": "2020-02-23T12:00:22.791671Z",
     "start_time": "2020-02-23T12:00:22.781940Z"
    }
   },
   "outputs": [
    {
     "data": {
      "application/javascript": [
       "\n",
       "            setTimeout(function() {\n",
       "                var nbb_cell_id = 7;\n",
       "                var nbb_unformatted_code = \"class RandomAgent(AgentAbstract):\\n    def __init__(self):\\n        super().__init__()\\n\\n    def learned_act(self, s):\\n        return np.random.randint(0, self.n_action)\";\n",
       "                var nbb_formatted_code = \"class RandomAgent(AgentAbstract):\\n    def __init__(self):\\n        super().__init__()\\n\\n    def learned_act(self, s):\\n        return np.random.randint(0, self.n_action)\";\n",
       "                var nbb_cells = Jupyter.notebook.get_cells();\n",
       "                for (var i = 0; i < nbb_cells.length; ++i) {\n",
       "                    if (nbb_cells[i].input_prompt_number == nbb_cell_id) {\n",
       "                        if (nbb_cells[i].get_text() == nbb_unformatted_code) {\n",
       "                             nbb_cells[i].set_text(nbb_formatted_code);\n",
       "                        }\n",
       "                        break;\n",
       "                    }\n",
       "                }\n",
       "            }, 500);\n",
       "            "
      ],
      "text/plain": [
       "<IPython.core.display.Javascript object>"
      ]
     },
     "metadata": {},
     "output_type": "display_data"
    }
   ],
   "source": [
    "class RandomAgent(AgentAbstract):\n",
    "    def __init__(self):\n",
    "        super().__init__()\n",
    "\n",
    "    def learned_act(self, s):\n",
    "        return np.random.randint(0, self.n_action)"
   ]
  },
  {
   "cell_type": "markdown",
   "metadata": {},
   "source": [
    "***\n",
    "***\n",
    "__Question 4__ Visualize the game moves. You need to fill in the following function for the evaluation:"
   ]
  },
  {
   "cell_type": "code",
   "execution_count": 8,
   "metadata": {
    "ExecuteTime": {
     "end_time": "2020-02-23T12:00:25.155103Z",
     "start_time": "2020-02-23T12:00:25.130733Z"
    }
   },
   "outputs": [
    {
     "data": {
      "application/javascript": [
       "\n",
       "            setTimeout(function() {\n",
       "                var nbb_cell_id = 8;\n",
       "                var nbb_unformatted_code = \"def test(agent, env, epochs, prefix=\\\"\\\"):\\n    # Number of won games\\n    score = 0\\n\\n    for e in range(epochs):\\n\\n        # At each epoch, we restart to a fresh game and get the initial state\\n        state = env.reset()\\n        # This assumes that the games will end\\n        game_over = False\\n\\n        win = 0\\n        lose = 0\\n\\n        while not game_over:\\n            # The agent performs an action\\n            action = agent.act(state, train=False)\\n\\n            # Apply an action to the environment, get the next state, the reward\\n            # and if the games end\\n            state, reward, game_over = env.act(action)\\n\\n            # Update the counters\\n            if reward > 0:\\n                win = win + reward\\n            if reward < 0:\\n                lose = lose - reward\\n\\n        # Save as a mp4\\n        env.draw(prefix + str(e))\\n\\n        # Update stats\\n        score = score + win - lose\\n\\n        print(\\n            \\\"Win/lose count {}/{}. Average score ({})\\\".format(\\n                win, lose, score / (1 + e)\\n            )\\n        )\\n    print(\\\"Final score: \\\" + str(score / epochs))\";\n",
       "                var nbb_formatted_code = \"def test(agent, env, epochs, prefix=\\\"\\\"):\\n    # Number of won games\\n    score = 0\\n\\n    for e in range(epochs):\\n\\n        # At each epoch, we restart to a fresh game and get the initial state\\n        state = env.reset()\\n        # This assumes that the games will end\\n        game_over = False\\n\\n        win = 0\\n        lose = 0\\n\\n        while not game_over:\\n            # The agent performs an action\\n            action = agent.act(state, train=False)\\n\\n            # Apply an action to the environment, get the next state, the reward\\n            # and if the games end\\n            state, reward, game_over = env.act(action)\\n\\n            # Update the counters\\n            if reward > 0:\\n                win = win + reward\\n            if reward < 0:\\n                lose = lose - reward\\n\\n        # Save as a mp4\\n        env.draw(prefix + str(e))\\n\\n        # Update stats\\n        score = score + win - lose\\n\\n        print(\\n            \\\"Win/lose count {}/{}. Average score ({})\\\".format(\\n                win, lose, score / (1 + e)\\n            )\\n        )\\n    print(\\\"Final score: \\\" + str(score / epochs))\";\n",
       "                var nbb_cells = Jupyter.notebook.get_cells();\n",
       "                for (var i = 0; i < nbb_cells.length; ++i) {\n",
       "                    if (nbb_cells[i].input_prompt_number == nbb_cell_id) {\n",
       "                        if (nbb_cells[i].get_text() == nbb_unformatted_code) {\n",
       "                             nbb_cells[i].set_text(nbb_formatted_code);\n",
       "                        }\n",
       "                        break;\n",
       "                    }\n",
       "                }\n",
       "            }, 500);\n",
       "            "
      ],
      "text/plain": [
       "<IPython.core.display.Javascript object>"
      ]
     },
     "metadata": {},
     "output_type": "display_data"
    }
   ],
   "source": [
    "def test(agent, env, epochs, prefix=\"\"):\n",
    "    # Number of won games\n",
    "    score = 0\n",
    "\n",
    "    for e in range(epochs):\n",
    "\n",
    "        # At each epoch, we restart to a fresh game and get the initial state\n",
    "        state = env.reset()\n",
    "        # This assumes that the games will end\n",
    "        game_over = False\n",
    "\n",
    "        win = 0\n",
    "        lose = 0\n",
    "\n",
    "        while not game_over:\n",
    "            # The agent performs an action\n",
    "            action = agent.act(state, train=False)\n",
    "\n",
    "            # Apply an action to the environment, get the next state, the reward\n",
    "            # and if the games end\n",
    "            state, reward, game_over = env.act(action)\n",
    "\n",
    "            # Update the counters\n",
    "            if reward > 0:\n",
    "                win = win + reward\n",
    "            if reward < 0:\n",
    "                lose = lose - reward\n",
    "\n",
    "        # Save as a mp4\n",
    "        env.draw(prefix + str(e))\n",
    "\n",
    "        # Update stats\n",
    "        score = score + win - lose\n",
    "\n",
    "        print(\n",
    "            \"Win/lose count {}/{}. Average score ({})\".format(\n",
    "                win, lose, score / (1 + e)\n",
    "            )\n",
    "        )\n",
    "    print(\"Final score: \" + str(score / epochs))"
   ]
  },
  {
   "cell_type": "code",
   "execution_count": 9,
   "metadata": {
    "ExecuteTime": {
     "end_time": "2020-02-23T12:00:43.203299Z",
     "start_time": "2020-02-23T12:00:35.252609Z"
    }
   },
   "outputs": [
    {
     "name": "stdout",
     "output_type": "stream",
     "text": [
      "Win/lose count 9.0/21.0. Average score (-12.0)\n",
      "Win/lose count 8.0/7.0. Average score (-5.5)\n",
      "Win/lose count 8.5/15.0. Average score (-5.833333333333333)\n",
      "Win/lose count 7.0/10.0. Average score (-5.125)\n",
      "Win/lose count 9.0/13.0. Average score (-4.9)\n",
      "Win/lose count 6.5/12.0. Average score (-5.0)\n",
      "Win/lose count 8.5/9.0. Average score (-4.357142857142857)\n",
      "Win/lose count 10.0/21.0. Average score (-5.1875)\n",
      "Win/lose count 8.5/13.0. Average score (-5.111111111111111)\n",
      "Win/lose count 18.0/12.0. Average score (-4.0)\n",
      "Win/lose count 12.0/13.0. Average score (-3.727272727272727)\n",
      "Win/lose count 10.0/22.0. Average score (-4.416666666666667)\n",
      "Win/lose count 10.5/14.0. Average score (-4.346153846153846)\n",
      "Win/lose count 8.5/13.0. Average score (-4.357142857142857)\n",
      "Win/lose count 9.0/10.0. Average score (-4.133333333333334)\n",
      "Final score: -4.133333333333334\n"
     ]
    },
    {
     "data": {
      "text/html": [
       "<video alt=\"test\" controls>\n",
       "                <source src=\"data:video/mp4;base64,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\" type=\"video/mp4\" />\n",
       "             </video>"
      ],
      "text/plain": [
       "<IPython.core.display.HTML object>"
      ]
     },
     "execution_count": 9,
     "metadata": {},
     "output_type": "execute_result"
    },
    {
     "data": {
      "application/javascript": [
       "\n",
       "            setTimeout(function() {\n",
       "                var nbb_cell_id = 9;\n",
       "                var nbb_unformatted_code = \"size = 13\\nT = 200\\ntemperature = 0.3\\nepochs_test = 15\\n\\n# Initialize the game\\nenv = Environment(grid_size=size, max_time=T, temperature=temperature)\\n\\n# Initialize the agent!\\nagent = RandomAgent()\\n\\ntest(agent, env, epochs_test, prefix=\\\"video/random\\\")\\nHTML(display_videos(\\\"video/random0.mp4\\\"))\";\n",
       "                var nbb_formatted_code = \"size = 13\\nT = 200\\ntemperature = 0.3\\nepochs_test = 15\\n\\n# Initialize the game\\nenv = Environment(grid_size=size, max_time=T, temperature=temperature)\\n\\n# Initialize the agent!\\nagent = RandomAgent()\\n\\ntest(agent, env, epochs_test, prefix=\\\"video/random\\\")\\nHTML(display_videos(\\\"video/random0.mp4\\\"))\";\n",
       "                var nbb_cells = Jupyter.notebook.get_cells();\n",
       "                for (var i = 0; i < nbb_cells.length; ++i) {\n",
       "                    if (nbb_cells[i].input_prompt_number == nbb_cell_id) {\n",
       "                        if (nbb_cells[i].get_text() == nbb_unformatted_code) {\n",
       "                             nbb_cells[i].set_text(nbb_formatted_code);\n",
       "                        }\n",
       "                        break;\n",
       "                    }\n",
       "                }\n",
       "            }, 500);\n",
       "            "
      ],
      "text/plain": [
       "<IPython.core.display.Javascript object>"
      ]
     },
     "metadata": {},
     "output_type": "display_data"
    }
   ],
   "source": [
    "size = 13\n",
    "T = 200\n",
    "temperature = 0.3\n",
    "epochs_test = 15\n",
    "\n",
    "# Initialize the game\n",
    "env = Environment(grid_size=size, max_time=T, temperature=temperature)\n",
    "\n",
    "# Initialize the agent!\n",
    "agent = RandomAgent()\n",
    "\n",
    "test(agent, env, epochs_test, prefix=\"video/random\")\n",
    "HTML(display_videos(\"video/random0.mp4\"))"
   ]
  },
  {
   "cell_type": "markdown",
   "metadata": {},
   "source": [
    "***\n",
    "## DQN"
   ]
  },
  {
   "cell_type": "markdown",
   "metadata": {},
   "source": [
    "Let us assume here that $T=\\infty$.\n",
    "\n",
    "***\n",
    "__Question 5__ Let $\\pi$ be a policy, show that:\n",
    "\n",
    "\\begin{equation*}\n",
    "Q^{\\pi}(s,a)=E_{(s',a')\\sim p(.|s,a)}[r(s,a)+\\gamma Q^{\\pi}(s',a')]\n",
    "\\end{equation*}\n",
    "\n",
    "Then, show that for the optimal policy $\\pi^*$ (we assume its existence), the following holds: \n",
    "\n",
    "\\begin{equation*}\n",
    "Q^{*}(s,a)=E_{s'\\sim \\pi^*(.|s,a)}[r(s,a)+\\gamma\\max_{a'}Q^{*}(s',a')].\n",
    "\\end{equation*}\n",
    "Finally, deduce that a plausible objective is:\n",
    "\n",
    "\\begin{equation*}\n",
    "\\mathcal{L}(\\theta)=E_{s' \\sim \\pi^*(.|s,a)}\\Vert r+\\gamma\\max_{a'}Q(s',a',\\theta)-Q(s,a,\\theta)\\Vert^{2}.\n",
    "\\end{equation*}\n",
    "\n",
    "\n"
   ]
  },
  {
   "cell_type": "markdown",
   "metadata": {},
   "source": [
    "**Question 5 (anwser)**\n",
    "\n",
    "*Part 1*\n",
    "\n",
    "$$\n",
    "\\begin{align*}\n",
    "Q^\\pi(s, a) & = E_{p^\\pi}[\\sum_{t \\geq 0} \\gamma^t r(s_t, a_t) | s_0=s, a_0=a] \\\\\n",
    "& = E_{p^\\pi(.|s,a)}[\\sum_{t \\geq 0} \\gamma^t r(s_t, a_t)] \\\\\n",
    "& = E_{p^\\pi(.|s,a)}[r(s, a) + \\gamma E_{p^\\pi}[\\sum_{t \\geq 0} \\gamma^t r(s_{t + 1}, a_{t + 1})|s_1, a_1]] \\text{ because }\\{(a_t, s_t)\\}_{t \\geq 0}\\text{ is a Markov process} \\\\\n",
    "& = E_{(a', s') \\sim p^\\pi(.|s,a)}[r(s, a) + \\gamma Q^\\pi(s', a')] \\\\\n",
    "\\end{align*}\n",
    "$$\n",
    "\n",
    "<!-- By definition:\n",
    "\n",
    "$$\n",
    "Q^*(s,a) = \\max_\\pi Q^\\pi(s,a)\n",
    "$$\n",
    "\n",
    "And we have:\n",
    "\n",
    "$$\n",
    "\\pi^*(s) = \\operatorname{argmax}_a Q^*(s,a)\n",
    "$$\n",
    "\n",
    "The previous equation is valid for $Q^*$, thus we get:\n",
    "\n",
    "$$\n",
    "\\begin{align*}\n",
    "Q^*(s, a) & = E_{(a', s') \\sim \\pi^*(.|s,a)}[r(s, a) + \\gamma Q^*(s', a')] \\\\\n",
    "& = E_{s' \\sim p(.|s,a)}[r(s, a) + \\gamma \\max_{a'} Q^*(s', a')] \\\\\n",
    "\\end{align*}\n",
    "$$ -->\n",
    "\n",
    "*Part 2*\n",
    "\n",
    "By definition of $Q^*$:\n",
    "\n",
    "$$\n",
    "\\begin{align*}\n",
    "Q^*(s,a) & = \\max_\\pi Q^\\pi(s,a) \\\\\n",
    "& = \\max_\\pi E_{(a', s') \\sim p(.|s,a)}[r(s, a) + \\gamma Q^\\pi(s', a')] \\\\\n",
    "& = r(s, a) + \\max_\\pi \\sum_{s'} p(s'|s,a) \\sum_{a'} \\pi(a'|s') \\gamma Q^\\pi(s', a') \\\\\n",
    "& \\leq r(s, a) + \\sum_{s'} p(s'|s,a) \\max_\\pi \\sum_{a'} \\pi(a'|s') \\gamma Q^\\pi(s', a') \\\\\n",
    "& \\leq r(s, a) + \\sum_{s'} p(s'|s,a) \\max_{\\pi, a'} \\gamma Q^\\pi(s', a') \\\\\n",
    "\\end{align*}\n",
    "$$\n",
    "\n",
    "Let:\n",
    "\n",
    "$$\n",
    "\\begin{align*}\n",
    "\\pi_0(.|s) & = arg \\max_\\pi \\max_a Q^\\pi(s, a) \\\\\n",
    "\\pi_1(a|s) & = \\mathbb{1}_{a = \\pi_0(a|s)} \\\\\n",
    "\\end{align*}\n",
    "$$\n",
    "\n",
    "The last inequality can be rewritten (by definition of $\\pi_1$):\n",
    "\n",
    "$$\n",
    "\\begin{align*}\n",
    "Q^*(s,a) & \\leq Q^{\\pi_1}(s,a) = r(s, a) + \\sum_{s'} p(s'|s,a) \\sum_{a'} \\pi_1(a'|s') \\gamma Q^{\\pi_1}(s', a')\n",
    "\\end{align*}\n",
    "$$\n",
    "\n",
    "But, $\\pi_1$ being a policy, we also have (by definition of $Q^*$):\n",
    "\n",
    "$$\n",
    "Q^{\\pi_1}(s,a) \\leq Q^*(s,a)\n",
    "$$\n",
    "\n",
    "Thus:\n",
    "\n",
    "$$\n",
    "Q^{\\pi_1}(s,a) = Q^*(s,a)\n",
    "$$\n",
    "\n",
    "*Part 3*\n",
    "\n",
    "Our objective is to find a $Q^*$ that verifies the previous equation, which we can rewrite:\n",
    "\n",
    "$$\n",
    "\\begin{align*}\n",
    "& E_{s' \\sim \\pi^*(.|s,a)}[r(s, a) + \\max_{a'} \\gamma Q^*(s', a')] - Q^*(s, a) & = 0 \\\\\n",
    "& E_{s' \\sim \\pi^*(.|s,a)}[r(s, a) + \\max_{a'} \\gamma Q^*(s', a') - Q^*(s, a)] & = 0 \\\\\n",
    "\\text{which is implied by } & E_{s' \\sim \\pi^*(.|s,a)}[\\|r(s, a) + \\max_{a'} \\gamma Q^*(s', a') - Q^*(s, a)\\|^2] & = 0\n",
    "\\end{align*}\n",
    "$$\n",
    "\n",
    "Minimizing the following function will thus allow us to find the optimal $Q^*$:\n",
    "\n",
    "$$\n",
    "\\mathcal{L}(\\theta)=E_{s' \\sim \\pi^*(.|s,a)}[\\Vert r+\\gamma\\max_{a'}Q(s',a',\\theta)-Q(s,a,\\theta)\\Vert^{2}]\n",
    "$$"
   ]
  },
  {
   "cell_type": "markdown",
   "metadata": {},
   "source": [
    "***\n",
    "The DQN-learning algorithm relies on these derivations to train the parameters $\\theta$ of a Deep Neural Network:\n",
    "\n",
    "1. At the state $s_t$, select the action $a_t$ with best reward using $Q_t$ and store the results;\n",
    "\n",
    "2. Obtain the new state $s_{t+1}$ from the environment $p$;\n",
    "\n",
    "3. Store $(s_t,a_t,s_{t+1})$;\n",
    "\n",
    "4. Obtain $Q_{t+1}$ by minimizing  $\\mathcal{L}$ from a recovered batch from the previously stored results.\n",
    "\n",
    "***\n",
    "__Question 6__ Implement the class ```Memory``` that stores moves (in a replay buffer) via ```remember``` and provides a ```random_access``` to these. Specify a maximum memory size to avoid side effects. You can for example use a ```list()``` and set by default ```max_memory=100```."
   ]
  },
  {
   "cell_type": "code",
   "execution_count": 10,
   "metadata": {
    "ExecuteTime": {
     "end_time": "2020-02-23T12:00:44.960427Z",
     "start_time": "2020-02-23T12:00:44.939985Z"
    }
   },
   "outputs": [
    {
     "data": {
      "application/javascript": [
       "\n",
       "            setTimeout(function() {\n",
       "                var nbb_cell_id = 10;\n",
       "                var nbb_unformatted_code = \"class Memory(object):\\n    def __init__(self, max_memory=100):\\n        self.max_memory = max_memory\\n        self.memory = list()\\n        self.cursor = 0  # if the memory is full, which index should we overwrite ?\\n\\n    def remember(self, m):\\n        # if we have room for the memory to grow, make it grow\\n        if len(self.memory) < self.max_memory:\\n            self.memory.append(m)\\n        # otherwise, overwrite memory[cursor]\\n        else:\\n            self.memory[self.cursor] = m\\n            self.cursor = (self.cursor + 1) % len(self.memory)\\n\\n    def random_access(self):\\n        return self.memory[np.random.randint(0, len(self.memory))]\";\n",
       "                var nbb_formatted_code = \"class Memory(object):\\n    def __init__(self, max_memory=100):\\n        self.max_memory = max_memory\\n        self.memory = list()\\n        self.cursor = 0  # if the memory is full, which index should we overwrite ?\\n\\n    def remember(self, m):\\n        # if we have room for the memory to grow, make it grow\\n        if len(self.memory) < self.max_memory:\\n            self.memory.append(m)\\n        # otherwise, overwrite memory[cursor]\\n        else:\\n            self.memory[self.cursor] = m\\n            self.cursor = (self.cursor + 1) % len(self.memory)\\n\\n    def random_access(self):\\n        return self.memory[np.random.randint(0, len(self.memory))]\";\n",
       "                var nbb_cells = Jupyter.notebook.get_cells();\n",
       "                for (var i = 0; i < nbb_cells.length; ++i) {\n",
       "                    if (nbb_cells[i].input_prompt_number == nbb_cell_id) {\n",
       "                        if (nbb_cells[i].get_text() == nbb_unformatted_code) {\n",
       "                             nbb_cells[i].set_text(nbb_formatted_code);\n",
       "                        }\n",
       "                        break;\n",
       "                    }\n",
       "                }\n",
       "            }, 500);\n",
       "            "
      ],
      "text/plain": [
       "<IPython.core.display.Javascript object>"
      ]
     },
     "metadata": {},
     "output_type": "display_data"
    }
   ],
   "source": [
    "class Memory(object):\n",
    "    def __init__(self, max_memory=100):\n",
    "        self.max_memory = max_memory\n",
    "        self.memory = list()\n",
    "        self.cursor = 0  # if the memory is full, which index should we overwrite ?\n",
    "\n",
    "    def remember(self, m):\n",
    "        # if we have room for the memory to grow, make it grow\n",
    "        if len(self.memory) < self.max_memory:\n",
    "            self.memory.append(m)\n",
    "        # otherwise, overwrite memory[cursor]\n",
    "        else:\n",
    "            self.memory[self.cursor] = m\n",
    "            self.cursor = (self.cursor + 1) % len(self.memory)\n",
    "\n",
    "    def random_access(self):\n",
    "        return self.memory[np.random.randint(0, len(self.memory))]"
   ]
  },
  {
   "cell_type": "markdown",
   "metadata": {},
   "source": [
    "***\n",
    "The pipeline we will use for training is given below:"
   ]
  },
  {
   "cell_type": "code",
   "execution_count": 11,
   "metadata": {
    "ExecuteTime": {
     "end_time": "2020-02-23T12:00:50.411126Z",
     "start_time": "2020-02-23T12:00:50.378797Z"
    }
   },
   "outputs": [
    {
     "data": {
      "application/javascript": [
       "\n",
       "            setTimeout(function() {\n",
       "                var nbb_cell_id = 11;\n",
       "                var nbb_unformatted_code = \"def train(agent, env, epoch, prefix=\\\"\\\"):\\n    # Number of won games\\n    score = 0\\n\\n    for e in range(1, epoch + 1):\\n        # At each epoch, we restart to a fresh game and get the initial state\\n        state = env.reset()\\n        # This assumes that the games will terminate\\n        game_over = False\\n\\n        win = 0\\n        lose = 0\\n\\n        loss = 0\\n        turns = 0\\n\\n        while not game_over:\\n            # The agent performs an action\\n            action = agent.act(state)\\n\\n            # Apply an action to the environment, get the next state, the reward\\n            # and if the games end\\n            prev_state = state\\n            state, reward, game_over = env.act(action)\\n\\n            # Update the counters\\n            if reward > 0:\\n                win = win + reward\\n            if reward < 0:\\n                lose = lose - reward\\n\\n            # Apply the reinforcement strategy\\n            loss += agent.reinforce(prev_state, state, action, reward, game_over)\\n            turns += 1\\n\\n        # Save as a mp4\\n        if e % 10 == 0:\\n            env.draw(prefix + str(e))\\n\\n        # Update stats\\n        score += win - lose\\n\\n        print(\\n            \\\"Epoch {:03d}/{:03d} | Loss {:.4f} | Win/lose count {}/{} ({})\\\".format(\\n                e, epoch, loss / turns, win, lose, win - lose\\n            )\\n        )\\n        agent.save(name_weights=prefix + \\\"model.h5\\\", name_model=prefix + \\\"model.json\\\")\";\n",
       "                var nbb_formatted_code = \"def train(agent, env, epoch, prefix=\\\"\\\"):\\n    # Number of won games\\n    score = 0\\n\\n    for e in range(1, epoch + 1):\\n        # At each epoch, we restart to a fresh game and get the initial state\\n        state = env.reset()\\n        # This assumes that the games will terminate\\n        game_over = False\\n\\n        win = 0\\n        lose = 0\\n\\n        loss = 0\\n        turns = 0\\n\\n        while not game_over:\\n            # The agent performs an action\\n            action = agent.act(state)\\n\\n            # Apply an action to the environment, get the next state, the reward\\n            # and if the games end\\n            prev_state = state\\n            state, reward, game_over = env.act(action)\\n\\n            # Update the counters\\n            if reward > 0:\\n                win = win + reward\\n            if reward < 0:\\n                lose = lose - reward\\n\\n            # Apply the reinforcement strategy\\n            loss += agent.reinforce(prev_state, state, action, reward, game_over)\\n            turns += 1\\n\\n        # Save as a mp4\\n        if e % 10 == 0:\\n            env.draw(prefix + str(e))\\n\\n        # Update stats\\n        score += win - lose\\n\\n        print(\\n            \\\"Epoch {:03d}/{:03d} | Loss {:.4f} | Win/lose count {}/{} ({})\\\".format(\\n                e, epoch, loss / turns, win, lose, win - lose\\n            )\\n        )\\n        agent.save(name_weights=prefix + \\\"model.h5\\\", name_model=prefix + \\\"model.json\\\")\";\n",
       "                var nbb_cells = Jupyter.notebook.get_cells();\n",
       "                for (var i = 0; i < nbb_cells.length; ++i) {\n",
       "                    if (nbb_cells[i].input_prompt_number == nbb_cell_id) {\n",
       "                        if (nbb_cells[i].get_text() == nbb_unformatted_code) {\n",
       "                             nbb_cells[i].set_text(nbb_formatted_code);\n",
       "                        }\n",
       "                        break;\n",
       "                    }\n",
       "                }\n",
       "            }, 500);\n",
       "            "
      ],
      "text/plain": [
       "<IPython.core.display.Javascript object>"
      ]
     },
     "metadata": {},
     "output_type": "display_data"
    }
   ],
   "source": [
    "def train(agent, env, epoch, prefix=\"\"):\n",
    "    # Number of won games\n",
    "    score = 0\n",
    "\n",
    "    for e in range(1, epoch + 1):\n",
    "        # At each epoch, we restart to a fresh game and get the initial state\n",
    "        state = env.reset()\n",
    "        # This assumes that the games will terminate\n",
    "        game_over = False\n",
    "\n",
    "        win = 0\n",
    "        lose = 0\n",
    "\n",
    "        loss = 0\n",
    "        turns = 0\n",
    "\n",
    "        while not game_over:\n",
    "            # The agent performs an action\n",
    "            action = agent.act(state)\n",
    "\n",
    "            # Apply an action to the environment, get the next state, the reward\n",
    "            # and if the games end\n",
    "            prev_state = state\n",
    "            state, reward, game_over = env.act(action)\n",
    "\n",
    "            # Update the counters\n",
    "            if reward > 0:\n",
    "                win = win + reward\n",
    "            if reward < 0:\n",
    "                lose = lose - reward\n",
    "\n",
    "            # Apply the reinforcement strategy\n",
    "            loss += agent.reinforce(prev_state, state, action, reward, game_over)\n",
    "            turns += 1\n",
    "\n",
    "        # Save as a mp4\n",
    "        if e % 10 == 0:\n",
    "            env.draw(prefix + str(e))\n",
    "\n",
    "        # Update stats\n",
    "        score += win - lose\n",
    "\n",
    "        print(\n",
    "            \"Epoch {:03d}/{:03d} | Loss {:.4f} | Win/lose count {}/{} ({})\".format(\n",
    "                e, epoch, loss / turns, win, lose, win - lose\n",
    "            )\n",
    "        )\n",
    "        agent.save(name_weights=prefix + \"model.h5\", name_model=prefix + \"model.json\")"
   ]
  },
  {
   "cell_type": "markdown",
   "metadata": {},
   "source": [
    "***\n",
    "__Question 7__ Implement the DQN training algorithm using a cascade of fully connected layers. You can use different learning rate, batch size or memory size parameters. In particular, the loss might oscillate while the player will start to win the games. You have to find a good criterium."
   ]
  },
  {
   "cell_type": "code",
   "execution_count": 12,
   "metadata": {
    "ExecuteTime": {
     "end_time": "2020-02-23T12:00:55.427298Z",
     "start_time": "2020-02-23T12:00:55.357313Z"
    }
   },
   "outputs": [
    {
     "data": {
      "application/javascript": [
       "\n",
       "            setTimeout(function() {\n",
       "                var nbb_cell_id = 12;\n",
       "                var nbb_unformatted_code = \"class DQNAbstract(AgentAbstract):\\n    def __init__(\\n        self, grid_size, epsilon=0.1, memory_size=100, batch_size=16, n_state=2\\n    ):\\n        super().__init__(epsilon=epsilon)\\n\\n        # Q-learning discount:\\n        # I chose a value that's smaller than the original value (0.99) to make\\n        # sure the Q-values won't diverge\\n        self.discount = 0.8\\n\\n        self.grid_size = grid_size\\n\\n        # number of state\\n        self.n_state = n_state\\n\\n        # Memory\\n        self.memory = Memory(memory_size)\\n\\n        # Batch size when learning\\n        self.batch_size = batch_size\\n\\n    def learned_act(self, s):\\n        return np.argmax(self.model.predict(s[np.newaxis]), 1)[0]\\n\\n    def reinforce(self, s_, n_s_, a_, r_, game_over_):\\n        # Two steps: first memorize the states, second learn from the pool\\n\\n        self.memory.remember([s_, n_s_, a_, r_, game_over_])\\n\\n        batch = [self.memory.random_access() for _ in range(self.batch_size)]\\n\\n        states = np.array([e[0] for e in batch])\\n        next_states = np.array([e[1] for e in batch])\\n        actions = np.array([e[2] for e in batch])\\n        rewards = np.array([e[3] for e in batch])\\n        game_overs = np.array([e[4] for e in batch])\\n\\n        input_states = states\\n        target_q = self.model.predict(states)\\n        target_q_next = self.model.predict(next_states)\\n\\n        target_q[\\n            np.where(game_overs == 1), actions[np.where(game_overs == 1)]\\n        ] = rewards[game_overs == 1]\\n        target_q[\\n            np.where(game_overs == 0), actions[np.where(game_overs == 0)]\\n        ] = rewards[game_overs == 0] + self.discount * np.max(\\n            target_q_next[game_overs == 0]\\n        )\\n\\n        # with a discount factor of 0.8, there is no need of clipping\\n        # the target Q-values, that's why the following line is commented out\\n\\n        # target_q = np.clip(target_q, -5, 5)\\n\\n        l = self.model.train_on_batch(input_states, target_q)\\n\\n        return l\\n\\n    def save(self, name_weights=\\\"model.h5\\\", name_model=\\\"model.json\\\"):\\n        self.model.save_weights(name_weights, overwrite=True)\\n        with open(name_model, \\\"w\\\") as outfile:\\n            json.dump(self.model.to_json(), outfile)\\n\\n    def load(self, name_weights=\\\"model.h5\\\", name_model=\\\"model.json\\\"):\\n        with open(name_model, \\\"r\\\") as jfile:\\n            model = model_from_json(json.load(jfile))\\n        model.load_weights(name_weights)\\n        model.compile(\\\"sgd\\\", \\\"mse\\\")\\n        self.model = model\\n\\n\\nclass DQN_FC(DQNAbstract):\\n    def __init__(self, *args, lr=0.1, **kwargs):\\n        super(DQN_FC, self).__init__(*args, **kwargs)\\n\\n        # NN Model\\n        model = Sequential()\\n        model.add(Flatten(input_shape=(5, 5, self.n_state)))\\n        model.add(Dense(30, activation=\\\"relu\\\"))\\n        model.add(Dense(4))\\n\\n        model.compile(SGD(lr=lr, decay=1e-4, momentum=0.0), \\\"mse\\\")\\n\\n        self.model = model\";\n",
       "                var nbb_formatted_code = \"class DQNAbstract(AgentAbstract):\\n    def __init__(\\n        self, grid_size, epsilon=0.1, memory_size=100, batch_size=16, n_state=2\\n    ):\\n        super().__init__(epsilon=epsilon)\\n\\n        # Q-learning discount:\\n        # I chose a value that's smaller than the original value (0.99) to make\\n        # sure the Q-values won't diverge\\n        self.discount = 0.8\\n\\n        self.grid_size = grid_size\\n\\n        # number of state\\n        self.n_state = n_state\\n\\n        # Memory\\n        self.memory = Memory(memory_size)\\n\\n        # Batch size when learning\\n        self.batch_size = batch_size\\n\\n    def learned_act(self, s):\\n        return np.argmax(self.model.predict(s[np.newaxis]), 1)[0]\\n\\n    def reinforce(self, s_, n_s_, a_, r_, game_over_):\\n        # Two steps: first memorize the states, second learn from the pool\\n\\n        self.memory.remember([s_, n_s_, a_, r_, game_over_])\\n\\n        batch = [self.memory.random_access() for _ in range(self.batch_size)]\\n\\n        states = np.array([e[0] for e in batch])\\n        next_states = np.array([e[1] for e in batch])\\n        actions = np.array([e[2] for e in batch])\\n        rewards = np.array([e[3] for e in batch])\\n        game_overs = np.array([e[4] for e in batch])\\n\\n        input_states = states\\n        target_q = self.model.predict(states)\\n        target_q_next = self.model.predict(next_states)\\n\\n        target_q[\\n            np.where(game_overs == 1), actions[np.where(game_overs == 1)]\\n        ] = rewards[game_overs == 1]\\n        target_q[\\n            np.where(game_overs == 0), actions[np.where(game_overs == 0)]\\n        ] = rewards[game_overs == 0] + self.discount * np.max(\\n            target_q_next[game_overs == 0]\\n        )\\n\\n        # with a discount factor of 0.8, there is no need of clipping\\n        # the target Q-values, that's why the following line is commented out\\n\\n        # target_q = np.clip(target_q, -5, 5)\\n\\n        l = self.model.train_on_batch(input_states, target_q)\\n\\n        return l\\n\\n    def save(self, name_weights=\\\"model.h5\\\", name_model=\\\"model.json\\\"):\\n        self.model.save_weights(name_weights, overwrite=True)\\n        with open(name_model, \\\"w\\\") as outfile:\\n            json.dump(self.model.to_json(), outfile)\\n\\n    def load(self, name_weights=\\\"model.h5\\\", name_model=\\\"model.json\\\"):\\n        with open(name_model, \\\"r\\\") as jfile:\\n            model = model_from_json(json.load(jfile))\\n        model.load_weights(name_weights)\\n        model.compile(\\\"sgd\\\", \\\"mse\\\")\\n        self.model = model\\n\\n\\nclass DQN_FC(DQNAbstract):\\n    def __init__(self, *args, lr=0.1, **kwargs):\\n        super(DQN_FC, self).__init__(*args, **kwargs)\\n\\n        # NN Model\\n        model = Sequential()\\n        model.add(Flatten(input_shape=(5, 5, self.n_state)))\\n        model.add(Dense(30, activation=\\\"relu\\\"))\\n        model.add(Dense(4))\\n\\n        model.compile(SGD(lr=lr, decay=1e-4, momentum=0.0), \\\"mse\\\")\\n\\n        self.model = model\";\n",
       "                var nbb_cells = Jupyter.notebook.get_cells();\n",
       "                for (var i = 0; i < nbb_cells.length; ++i) {\n",
       "                    if (nbb_cells[i].input_prompt_number == nbb_cell_id) {\n",
       "                        if (nbb_cells[i].get_text() == nbb_unformatted_code) {\n",
       "                             nbb_cells[i].set_text(nbb_formatted_code);\n",
       "                        }\n",
       "                        break;\n",
       "                    }\n",
       "                }\n",
       "            }, 500);\n",
       "            "
      ],
      "text/plain": [
       "<IPython.core.display.Javascript object>"
      ]
     },
     "metadata": {},
     "output_type": "display_data"
    }
   ],
   "source": [
    "class DQNAbstract(AgentAbstract):\n",
    "    def __init__(\n",
    "        self, grid_size, epsilon=0.1, memory_size=100, batch_size=16, n_state=2\n",
    "    ):\n",
    "        super().__init__(epsilon=epsilon)\n",
    "\n",
    "        # Q-learning discount:\n",
    "        # I chose a value that's smaller than the original value (0.99) to make\n",
    "        # sure the Q-values won't diverge\n",
    "        self.discount = 0.8\n",
    "\n",
    "        self.grid_size = grid_size\n",
    "\n",
    "        # number of state\n",
    "        self.n_state = n_state\n",
    "\n",
    "        # Memory\n",
    "        self.memory = Memory(memory_size)\n",
    "\n",
    "        # Batch size when learning\n",
    "        self.batch_size = batch_size\n",
    "\n",
    "    def learned_act(self, s):\n",
    "        return np.argmax(self.model.predict(s[np.newaxis]), 1)[0]\n",
    "\n",
    "    def reinforce(self, s_, n_s_, a_, r_, game_over_):\n",
    "        # Two steps: first memorize the states, second learn from the pool\n",
    "\n",
    "        self.memory.remember([s_, n_s_, a_, r_, game_over_])\n",
    "\n",
    "        batch = [self.memory.random_access() for _ in range(self.batch_size)]\n",
    "\n",
    "        states = np.array([e[0] for e in batch])\n",
    "        next_states = np.array([e[1] for e in batch])\n",
    "        actions = np.array([e[2] for e in batch])\n",
    "        rewards = np.array([e[3] for e in batch])\n",
    "        game_overs = np.array([e[4] for e in batch])\n",
    "\n",
    "        input_states = states\n",
    "        target_q = self.model.predict(states)\n",
    "        target_q_next = self.model.predict(next_states)\n",
    "\n",
    "        target_q[\n",
    "            np.where(game_overs == 1), actions[np.where(game_overs == 1)]\n",
    "        ] = rewards[game_overs == 1]\n",
    "        target_q[\n",
    "            np.where(game_overs == 0), actions[np.where(game_overs == 0)]\n",
    "        ] = rewards[game_overs == 0] + self.discount * np.max(\n",
    "            target_q_next[game_overs == 0]\n",
    "        )\n",
    "\n",
    "        # with a discount factor of 0.8, there is no need of clipping\n",
    "        # the target Q-values, that's why the following line is commented out\n",
    "\n",
    "        # target_q = np.clip(target_q, -5, 5)\n",
    "\n",
    "        l = self.model.train_on_batch(input_states, target_q)\n",
    "\n",
    "        return l\n",
    "\n",
    "    def save(self, name_weights=\"model.h5\", name_model=\"model.json\"):\n",
    "        self.model.save_weights(name_weights, overwrite=True)\n",
    "        with open(name_model, \"w\") as outfile:\n",
    "            json.dump(self.model.to_json(), outfile)\n",
    "\n",
    "    def load(self, name_weights=\"model.h5\", name_model=\"model.json\"):\n",
    "        with open(name_model, \"r\") as jfile:\n",
    "            model = model_from_json(json.load(jfile))\n",
    "        model.load_weights(name_weights)\n",
    "        model.compile(\"sgd\", \"mse\")\n",
    "        self.model = model\n",
    "\n",
    "\n",
    "class DQN_FC(DQNAbstract):\n",
    "    def __init__(self, *args, lr=0.1, **kwargs):\n",
    "        super(DQN_FC, self).__init__(*args, **kwargs)\n",
    "\n",
    "        # NN Model\n",
    "        model = Sequential()\n",
    "        model.add(Flatten(input_shape=(5, 5, self.n_state)))\n",
    "        model.add(Dense(30, activation=\"relu\"))\n",
    "        model.add(Dense(4))\n",
    "\n",
    "        model.compile(SGD(lr=lr, decay=1e-4, momentum=0.0), \"mse\")\n",
    "\n",
    "        self.model = model"
   ]
  },
  {
   "cell_type": "code",
   "execution_count": 13,
   "metadata": {
    "ExecuteTime": {
     "end_time": "2020-02-23T12:10:06.729277Z",
     "start_time": "2020-02-23T12:01:06.255856Z"
    },
    "scrolled": false
   },
   "outputs": [
    {
     "name": "stdout",
     "output_type": "stream",
     "text": [
      "Model: \"sequential\"\n",
      "_________________________________________________________________\n",
      "Layer (type)                 Output Shape              Param #   \n",
      "=================================================================\n",
      "flatten (Flatten)            (None, 50)                0         \n",
      "_________________________________________________________________\n",
      "dense (Dense)                (None, 30)                1530      \n",
      "_________________________________________________________________\n",
      "dense_1 (Dense)              (None, 4)                 124       \n",
      "=================================================================\n",
      "Total params: 1,654\n",
      "Trainable params: 1,654\n",
      "Non-trainable params: 0\n",
      "_________________________________________________________________\n",
      "Epoch 001/050 | Loss 0.0406 | Win/lose count 2.5/4.0 (-1.5)\n",
      "Epoch 002/050 | Loss 0.0149 | Win/lose count 2.0/0 (2.0)\n",
      "Epoch 003/050 | Loss 0.0146 | Win/lose count 1.0/4.0 (-3.0)\n",
      "Epoch 004/050 | Loss 0.0164 | Win/lose count 3.0/7.0 (-4.0)\n",
      "Epoch 005/050 | Loss 0.0179 | Win/lose count 4.0/11.0 (-7.0)\n",
      "Epoch 006/050 | Loss 0.0143 | Win/lose count 2.0/5.0 (-3.0)\n",
      "Epoch 007/050 | Loss 0.0123 | Win/lose count 6.0/0 (6.0)\n",
      "Epoch 008/050 | Loss 0.0108 | Win/lose count 5.5/5.0 (0.5)\n",
      "Epoch 009/050 | Loss 0.0103 | Win/lose count 5.0/1.0 (4.0)\n",
      "Epoch 010/050 | Loss 0.0094 | Win/lose count 3.5/1.0 (2.5)\n",
      "Epoch 011/050 | Loss 0.0104 | Win/lose count 2.0/1.0 (1.0)\n",
      "Epoch 012/050 | Loss 0.0110 | Win/lose count 7.0/4.0 (3.0)\n",
      "Epoch 013/050 | Loss 0.0110 | Win/lose count 4.0/3.0 (1.0)\n",
      "Epoch 014/050 | Loss 0.0107 | Win/lose count 4.0/3.0 (1.0)\n",
      "Epoch 015/050 | Loss 0.0098 | Win/lose count 5.5/3.0 (2.5)\n",
      "Epoch 016/050 | Loss 0.0099 | Win/lose count 3.0/0 (3.0)\n",
      "Epoch 017/050 | Loss 0.0081 | Win/lose count 10.5/6.0 (4.5)\n",
      "Epoch 018/050 | Loss 0.0088 | Win/lose count 10.5/2.0 (8.5)\n",
      "Epoch 019/050 | Loss 0.0083 | Win/lose count 3.5/2.0 (1.5)\n",
      "Epoch 020/050 | Loss 0.0079 | Win/lose count 0.5/0 (0.5)\n",
      "Epoch 021/050 | Loss 0.0085 | Win/lose count 10.0/7.0 (3.0)\n",
      "Epoch 022/050 | Loss 0.0091 | Win/lose count 7.0/4.0 (3.0)\n",
      "Epoch 023/050 | Loss 0.0092 | Win/lose count 7.5/1.0 (6.5)\n",
      "Epoch 024/050 | Loss 0.0092 | Win/lose count 12.5/3.0 (9.5)\n",
      "Epoch 025/050 | Loss 0.0101 | Win/lose count 4.0/1.0 (3.0)\n",
      "Epoch 026/050 | Loss 0.0099 | Win/lose count 13.0/4.0 (9.0)\n",
      "Epoch 027/050 | Loss 0.0098 | Win/lose count 9.0/5.0 (4.0)\n",
      "Epoch 028/050 | Loss 0.0110 | Win/lose count 11.0/5.0 (6.0)\n",
      "Epoch 029/050 | Loss 0.0115 | Win/lose count 3.5/2.0 (1.5)\n",
      "Epoch 030/050 | Loss 0.0118 | Win/lose count 11.0/5.0 (6.0)\n",
      "Epoch 031/050 | Loss 0.0111 | Win/lose count 4.5/1.0 (3.5)\n",
      "Epoch 032/050 | Loss 0.0113 | Win/lose count 7.5/1.0 (6.5)\n",
      "Epoch 033/050 | Loss 0.0107 | Win/lose count 11.0/5.0 (6.0)\n",
      "Epoch 034/050 | Loss 0.0106 | Win/lose count 9.0/1.0 (8.0)\n",
      "Epoch 035/050 | Loss 0.0101 | Win/lose count 12.5/4.0 (8.5)\n",
      "Epoch 036/050 | Loss 0.0109 | Win/lose count 3.0/2.0 (1.0)\n",
      "Epoch 037/050 | Loss 0.0109 | Win/lose count 10.0/4.0 (6.0)\n",
      "Epoch 038/050 | Loss 0.0100 | Win/lose count 2.5/5.0 (-2.5)\n",
      "Epoch 039/050 | Loss 0.0100 | Win/lose count 7.5/2.0 (5.5)\n",
      "Epoch 040/050 | Loss 0.0095 | Win/lose count 3.5/5.0 (-1.5)\n",
      "Epoch 041/050 | Loss 0.0087 | Win/lose count 5.0/2.0 (3.0)\n",
      "Epoch 042/050 | Loss 0.0115 | Win/lose count 0.5/2.0 (-1.5)\n",
      "Epoch 043/050 | Loss 0.0110 | Win/lose count 17.5/4.0 (13.5)\n",
      "Epoch 044/050 | Loss 0.0100 | Win/lose count 12.0/3.0 (9.0)\n",
      "Epoch 045/050 | Loss 0.0114 | Win/lose count 9.0/4.0 (5.0)\n",
      "Epoch 046/050 | Loss 0.0101 | Win/lose count 9.0/2.0 (7.0)\n",
      "Epoch 047/050 | Loss 0.0106 | Win/lose count 5.0/1.0 (4.0)\n",
      "Epoch 048/050 | Loss 0.0104 | Win/lose count 16.0/3.0 (13.0)\n",
      "Epoch 049/050 | Loss 0.0089 | Win/lose count 13.5/2.0 (11.5)\n",
      "Epoch 050/050 | Loss 0.0105 | Win/lose count 6.5/2.0 (4.5)\n"
     ]
    },
    {
     "data": {
      "text/html": [
       "<video alt=\"test\" controls>\n",
       "                <source src=\"data:video/mp4;base64,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\" type=\"video/mp4\" />\n",
       "             </video>"
      ],
      "text/plain": [
       "<IPython.core.display.HTML object>"
      ]
     },
     "execution_count": 13,
     "metadata": {},
     "output_type": "execute_result"
    },
    {
     "data": {
      "application/javascript": [
       "\n",
       "            setTimeout(function() {\n",
       "                var nbb_cell_id = 13;\n",
       "                var nbb_unformatted_code = \"# parameters\\nsize = 13\\nT = 200\\ntemperature = 0.3\\nepochs_train = 50\\n\\nenv = Environment(grid_size=size, max_time=T, temperature=0.3)\\nagent = DQN_FC(size, lr=0.1, epsilon=0.1, memory_size=2000, batch_size=32)\\nagent.model.summary()\\ntrain(agent, env, epochs_train, prefix=\\\"video/fc_train\\\")\\nHTML(display_videos(\\\"video/fc_train50.mp4\\\"))\";\n",
       "                var nbb_formatted_code = \"# parameters\\nsize = 13\\nT = 200\\ntemperature = 0.3\\nepochs_train = 50\\n\\nenv = Environment(grid_size=size, max_time=T, temperature=0.3)\\nagent = DQN_FC(size, lr=0.1, epsilon=0.1, memory_size=2000, batch_size=32)\\nagent.model.summary()\\ntrain(agent, env, epochs_train, prefix=\\\"video/fc_train\\\")\\nHTML(display_videos(\\\"video/fc_train50.mp4\\\"))\";\n",
       "                var nbb_cells = Jupyter.notebook.get_cells();\n",
       "                for (var i = 0; i < nbb_cells.length; ++i) {\n",
       "                    if (nbb_cells[i].input_prompt_number == nbb_cell_id) {\n",
       "                        if (nbb_cells[i].get_text() == nbb_unformatted_code) {\n",
       "                             nbb_cells[i].set_text(nbb_formatted_code);\n",
       "                        }\n",
       "                        break;\n",
       "                    }\n",
       "                }\n",
       "            }, 500);\n",
       "            "
      ],
      "text/plain": [
       "<IPython.core.display.Javascript object>"
      ]
     },
     "metadata": {},
     "output_type": "display_data"
    }
   ],
   "source": [
    "# parameters\n",
    "size = 13\n",
    "T = 200\n",
    "temperature = 0.3\n",
    "epochs_train = 50\n",
    "\n",
    "env = Environment(grid_size=size, max_time=T, temperature=0.3)\n",
    "agent = DQN_FC(size, lr=0.1, epsilon=0.1, memory_size=2000, batch_size=32)\n",
    "agent.model.summary()\n",
    "train(agent, env, epochs_train, prefix=\"video/fc_train\")\n",
    "HTML(display_videos(\"video/fc_train50.mp4\"))"
   ]
  },
  {
   "cell_type": "markdown",
   "metadata": {},
   "source": [
    "***\n",
    "***\n",
    "__Question 8__ Implement the DQN training algorithm using a CNN (for example, 2 convolutional layers and one final fully connected layer)."
   ]
  },
  {
   "cell_type": "code",
   "execution_count": 14,
   "metadata": {
    "ExecuteTime": {
     "end_time": "2020-02-23T12:10:06.749329Z",
     "start_time": "2020-02-23T12:10:06.731645Z"
    }
   },
   "outputs": [
    {
     "data": {
      "application/javascript": [
       "\n",
       "            setTimeout(function() {\n",
       "                var nbb_cell_id = 14;\n",
       "                var nbb_unformatted_code = \"class DQN_CNN(DQNAbstract):\\n    def __init__(self, *args, lr=0.1, **kwargs):\\n        super(DQN_CNN, self).__init__(*args, **kwargs)\\n\\n        model = Sequential()\\n        model.add(\\n            Conv2D(32, (3, 3), input_shape=(5, 5, self.n_state), activation=\\\"relu\\\")\\n        )\\n        model.add(Conv2D(16, (3, 3), activation=\\\"relu\\\"))\\n        model.add(Flatten())\\n        model.add(Dense(4))\\n\\n        model.compile(SGD(lr=lr, decay=1e-4, momentum=0.0), \\\"mse\\\")\\n        self.model = model\";\n",
       "                var nbb_formatted_code = \"class DQN_CNN(DQNAbstract):\\n    def __init__(self, *args, lr=0.1, **kwargs):\\n        super(DQN_CNN, self).__init__(*args, **kwargs)\\n\\n        model = Sequential()\\n        model.add(\\n            Conv2D(32, (3, 3), input_shape=(5, 5, self.n_state), activation=\\\"relu\\\")\\n        )\\n        model.add(Conv2D(16, (3, 3), activation=\\\"relu\\\"))\\n        model.add(Flatten())\\n        model.add(Dense(4))\\n\\n        model.compile(SGD(lr=lr, decay=1e-4, momentum=0.0), \\\"mse\\\")\\n        self.model = model\";\n",
       "                var nbb_cells = Jupyter.notebook.get_cells();\n",
       "                for (var i = 0; i < nbb_cells.length; ++i) {\n",
       "                    if (nbb_cells[i].input_prompt_number == nbb_cell_id) {\n",
       "                        if (nbb_cells[i].get_text() == nbb_unformatted_code) {\n",
       "                             nbb_cells[i].set_text(nbb_formatted_code);\n",
       "                        }\n",
       "                        break;\n",
       "                    }\n",
       "                }\n",
       "            }, 500);\n",
       "            "
      ],
      "text/plain": [
       "<IPython.core.display.Javascript object>"
      ]
     },
     "metadata": {},
     "output_type": "display_data"
    }
   ],
   "source": [
    "class DQN_CNN(DQNAbstract):\n",
    "    def __init__(self, *args, lr=0.1, **kwargs):\n",
    "        super(DQN_CNN, self).__init__(*args, **kwargs)\n",
    "\n",
    "        model = Sequential()\n",
    "        model.add(\n",
    "            Conv2D(32, (3, 3), input_shape=(5, 5, self.n_state), activation=\"relu\")\n",
    "        )\n",
    "        model.add(Conv2D(16, (3, 3), activation=\"relu\"))\n",
    "        model.add(Flatten())\n",
    "        model.add(Dense(4))\n",
    "\n",
    "        model.compile(SGD(lr=lr, decay=1e-4, momentum=0.0), \"mse\")\n",
    "        self.model = model"
   ]
  },
  {
   "cell_type": "code",
   "execution_count": 15,
   "metadata": {
    "ExecuteTime": {
     "end_time": "2020-02-23T12:19:17.182046Z",
     "start_time": "2020-02-23T12:10:06.752253Z"
    },
    "scrolled": false
   },
   "outputs": [
    {
     "name": "stdout",
     "output_type": "stream",
     "text": [
      "Model: \"sequential_1\"\n",
      "_________________________________________________________________\n",
      "Layer (type)                 Output Shape              Param #   \n",
      "=================================================================\n",
      "conv2d (Conv2D)              (None, 3, 3, 32)          608       \n",
      "_________________________________________________________________\n",
      "conv2d_1 (Conv2D)            (None, 1, 1, 16)          4624      \n",
      "_________________________________________________________________\n",
      "flatten_1 (Flatten)          (None, 16)                0         \n",
      "_________________________________________________________________\n",
      "dense_2 (Dense)              (None, 4)                 68        \n",
      "=================================================================\n",
      "Total params: 5,300\n",
      "Trainable params: 5,300\n",
      "Non-trainable params: 0\n",
      "_________________________________________________________________\n",
      "Epoch 001/050 | Loss 0.0141 | Win/lose count 2.0/3.0 (-1.0)\n",
      "Epoch 002/050 | Loss 0.0093 | Win/lose count 1.5/1.0 (0.5)\n",
      "Epoch 003/050 | Loss 0.0046 | Win/lose count 1.5/2.0 (-0.5)\n",
      "Epoch 004/050 | Loss 0.0042 | Win/lose count 5.5/3.0 (2.5)\n",
      "Epoch 005/050 | Loss 0.0054 | Win/lose count 4.5/6.0 (-1.5)\n",
      "Epoch 006/050 | Loss 0.0064 | Win/lose count 2.5/2.0 (0.5)\n",
      "Epoch 007/050 | Loss 0.0063 | Win/lose count 5.5/3.0 (2.5)\n",
      "Epoch 008/050 | Loss 0.0055 | Win/lose count 4.5/2.0 (2.5)\n",
      "Epoch 009/050 | Loss 0.0047 | Win/lose count 3.0/2.0 (1.0)\n",
      "Epoch 010/050 | Loss 0.0051 | Win/lose count 1.0/3.0 (-2.0)\n",
      "Epoch 011/050 | Loss 0.0045 | Win/lose count 4.5/1.0 (3.5)\n",
      "Epoch 012/050 | Loss 0.0049 | Win/lose count 9.5/5.0 (4.5)\n",
      "Epoch 013/050 | Loss 0.0055 | Win/lose count 2.5/2.0 (0.5)\n",
      "Epoch 014/050 | Loss 0.0047 | Win/lose count 4.0/2.0 (2.0)\n",
      "Epoch 015/050 | Loss 0.0056 | Win/lose count 6.0/1.0 (5.0)\n",
      "Epoch 016/050 | Loss 0.0050 | Win/lose count 8.5/3.0 (5.5)\n",
      "Epoch 017/050 | Loss 0.0058 | Win/lose count 13.0/0 (13.0)\n",
      "Epoch 018/050 | Loss 0.0057 | Win/lose count 10.0/2.0 (8.0)\n",
      "Epoch 019/050 | Loss 0.0047 | Win/lose count 5.0/5.0 (0.0)\n",
      "Epoch 020/050 | Loss 0.0053 | Win/lose count 6.5/1.0 (5.5)\n",
      "Epoch 021/050 | Loss 0.0061 | Win/lose count 8.5/4.0 (4.5)\n",
      "Epoch 022/050 | Loss 0.0054 | Win/lose count 9.0/0 (9.0)\n",
      "Epoch 023/050 | Loss 0.0060 | Win/lose count 8.5/2.0 (6.5)\n",
      "Epoch 024/050 | Loss 0.0062 | Win/lose count 9.5/1.0 (8.5)\n",
      "Epoch 025/050 | Loss 0.0077 | Win/lose count 10.0/2.0 (8.0)\n",
      "Epoch 026/050 | Loss 0.0068 | Win/lose count 15.5/3.0 (12.5)\n",
      "Epoch 027/050 | Loss 0.0076 | Win/lose count 14.0/2.0 (12.0)\n",
      "Epoch 028/050 | Loss 0.0067 | Win/lose count 8.5/2.0 (6.5)\n",
      "Epoch 029/050 | Loss 0.0068 | Win/lose count 7.5/1.0 (6.5)\n",
      "Epoch 030/050 | Loss 0.0068 | Win/lose count 10.0/4.0 (6.0)\n",
      "Epoch 031/050 | Loss 0.0074 | Win/lose count 14.0/3.0 (11.0)\n",
      "Epoch 032/050 | Loss 0.0067 | Win/lose count 13.5/5.0 (8.5)\n",
      "Epoch 033/050 | Loss 0.0075 | Win/lose count 13.0/6.0 (7.0)\n",
      "Epoch 034/050 | Loss 0.0063 | Win/lose count 9.0/5.0 (4.0)\n",
      "Epoch 035/050 | Loss 0.0057 | Win/lose count 10.0/3.0 (7.0)\n",
      "Epoch 036/050 | Loss 0.0078 | Win/lose count 7.5/5.0 (2.5)\n",
      "Epoch 037/050 | Loss 0.0071 | Win/lose count 10.5/4.0 (6.5)\n",
      "Epoch 038/050 | Loss 0.0066 | Win/lose count 11.0/4.0 (7.0)\n",
      "Epoch 039/050 | Loss 0.0069 | Win/lose count 8.0/0 (8.0)\n",
      "Epoch 040/050 | Loss 0.0067 | Win/lose count 11.0/3.0 (8.0)\n",
      "Epoch 041/050 | Loss 0.0079 | Win/lose count 13.0/3.0 (10.0)\n",
      "Epoch 042/050 | Loss 0.0080 | Win/lose count 13.0/5.0 (8.0)\n",
      "Epoch 043/050 | Loss 0.0062 | Win/lose count 16.5/2.0 (14.5)\n",
      "Epoch 044/050 | Loss 0.0067 | Win/lose count 18.5/3.0 (15.5)\n",
      "Epoch 045/050 | Loss 0.0076 | Win/lose count 6.5/1.0 (5.5)\n",
      "Epoch 046/050 | Loss 0.0083 | Win/lose count 9.5/4.0 (5.5)\n",
      "Epoch 047/050 | Loss 0.0088 | Win/lose count 12.0/3.0 (9.0)\n",
      "Epoch 048/050 | Loss 0.0074 | Win/lose count 11.5/6.0 (5.5)\n",
      "Epoch 049/050 | Loss 0.0083 | Win/lose count 14.0/3.0 (11.0)\n",
      "Epoch 050/050 | Loss 0.0090 | Win/lose count 4.0/3.0 (1.0)\n"
     ]
    },
    {
     "data": {
      "text/html": [
       "<video alt=\"test\" controls>\n",
       "                <source src=\"data:video/mp4;base64,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\" type=\"video/mp4\" />\n",
       "             </video>"
      ],
      "text/plain": [
       "<IPython.core.display.HTML object>"
      ]
     },
     "execution_count": 15,
     "metadata": {},
     "output_type": "execute_result"
    },
    {
     "data": {
      "application/javascript": [
       "\n",
       "            setTimeout(function() {\n",
       "                var nbb_cell_id = 15;\n",
       "                var nbb_unformatted_code = \"# parameters\\nsize = 13\\nT = 200\\ntemperature = 0.3\\nepochs_train = 50\\n\\nenv = Environment(grid_size=size, max_time=T, temperature=0.3)\\nagent = DQN_CNN(size, lr=0.1, epsilon=0.1, memory_size=2000, batch_size=32)\\nagent.model.summary()\\ntrain(agent, env, epochs_train, prefix=\\\"video/cnn_train\\\")\\nHTML(display_videos(\\\"video/cnn_train50.mp4\\\"))\";\n",
       "                var nbb_formatted_code = \"# parameters\\nsize = 13\\nT = 200\\ntemperature = 0.3\\nepochs_train = 50\\n\\nenv = Environment(grid_size=size, max_time=T, temperature=0.3)\\nagent = DQN_CNN(size, lr=0.1, epsilon=0.1, memory_size=2000, batch_size=32)\\nagent.model.summary()\\ntrain(agent, env, epochs_train, prefix=\\\"video/cnn_train\\\")\\nHTML(display_videos(\\\"video/cnn_train50.mp4\\\"))\";\n",
       "                var nbb_cells = Jupyter.notebook.get_cells();\n",
       "                for (var i = 0; i < nbb_cells.length; ++i) {\n",
       "                    if (nbb_cells[i].input_prompt_number == nbb_cell_id) {\n",
       "                        if (nbb_cells[i].get_text() == nbb_unformatted_code) {\n",
       "                             nbb_cells[i].set_text(nbb_formatted_code);\n",
       "                        }\n",
       "                        break;\n",
       "                    }\n",
       "                }\n",
       "            }, 500);\n",
       "            "
      ],
      "text/plain": [
       "<IPython.core.display.Javascript object>"
      ]
     },
     "metadata": {},
     "output_type": "display_data"
    }
   ],
   "source": [
    "# parameters\n",
    "size = 13\n",
    "T = 200\n",
    "temperature = 0.3\n",
    "epochs_train = 50\n",
    "\n",
    "env = Environment(grid_size=size, max_time=T, temperature=0.3)\n",
    "agent = DQN_CNN(size, lr=0.1, epsilon=0.1, memory_size=2000, batch_size=32)\n",
    "agent.model.summary()\n",
    "train(agent, env, epochs_train, prefix=\"video/cnn_train\")\n",
    "HTML(display_videos(\"video/cnn_train50.mp4\"))"
   ]
  },
  {
   "cell_type": "markdown",
   "metadata": {},
   "source": [
    "***\n",
    "***\n",
    "__Question 9__ Test both algorithms and compare their performances. Which issue(s) do you observe? Observe also different behaviors by changing the temperature."
   ]
  },
  {
   "cell_type": "code",
   "execution_count": 17,
   "metadata": {
    "ExecuteTime": {
     "end_time": "2020-02-23T12:30:18.806630Z",
     "start_time": "2020-02-23T12:28:54.860953Z"
    }
   },
   "outputs": [
    {
     "name": "stdout",
     "output_type": "stream",
     "text": [
      "Test of the CNN\n",
      "Win/lose count 14.5/0. Average score (14.5)\n",
      "Win/lose count 9.5/0. Average score (12.0)\n",
      "Win/lose count 2.5/0. Average score (8.833333333333334)\n",
      "Win/lose count 3.5/0. Average score (7.5)\n",
      "Win/lose count 3.5/0. Average score (6.7)\n",
      "Win/lose count 7.0/0. Average score (6.75)\n",
      "Win/lose count 1.5/0. Average score (6.0)\n",
      "Win/lose count 9.5/0. Average score (6.4375)\n",
      "Win/lose count 5.5/1.0. Average score (6.222222222222222)\n",
      "Win/lose count 5.0/0. Average score (6.1)\n",
      "Final score: 6.1\n",
      "Test of the FC\n",
      "Win/lose count 1.5/0. Average score (1.5)\n",
      "Win/lose count 1.5/0. Average score (1.5)\n",
      "Win/lose count 4.0/0. Average score (2.3333333333333335)\n",
      "Win/lose count 6.5/1.0. Average score (3.125)\n",
      "Win/lose count 7.0/0. Average score (3.9)\n",
      "Win/lose count 6.5/1.0. Average score (4.166666666666667)\n",
      "Win/lose count 19.5/0. Average score (6.357142857142857)\n",
      "Win/lose count 16.0/0. Average score (7.5625)\n",
      "Win/lose count 2.0/0. Average score (6.944444444444445)\n",
      "Win/lose count 21.5/0. Average score (8.4)\n",
      "Final score: 8.4\n"
     ]
    },
    {
     "data": {
      "application/javascript": [
       "\n",
       "            setTimeout(function() {\n",
       "                var nbb_cell_id = 17;\n",
       "                var nbb_unformatted_code = \"# parameters\\nepochs_test = 10\\ntemperature = 0.5\\n\\nenv = Environment(grid_size=size, max_time=T, temperature=temperature)\\n\\nagent_cnn = DQN_CNN(size, lr=0.1, epsilon=0.1, memory_size=2000, batch_size=32)\\nagent_cnn.load(name_weights=\\\"video/cnn_trainmodel.h5\\\", name_model=\\\"video/cnn_trainmodel.json\\\")\\n\\nagent_fc = DQN_FC(size, lr=0.1, epsilon=0.1, memory_size=2000, batch_size=32)\\nagent_fc.load(name_weights=\\\"video/fc_trainmodel.h5\\\", name_model=\\\"video/fc_trainmodel.json\\\")\\n\\nprint(\\\"Test of the CNN\\\")\\ntest(agent_cnn, env, epochs_test, prefix=\\\"video/cnn_test\\\")\\n\\nprint(\\\"Test of the FC\\\")\\ntest(agent_fc, env, epochs_test, prefix=\\\"video/fc_test\\\")\";\n",
       "                var nbb_formatted_code = \"# parameters\\nepochs_test = 10\\ntemperature = 0.5\\n\\nenv = Environment(grid_size=size, max_time=T, temperature=temperature)\\n\\nagent_cnn = DQN_CNN(size, lr=0.1, epsilon=0.1, memory_size=2000, batch_size=32)\\nagent_cnn.load(\\n    name_weights=\\\"video/cnn_trainmodel.h5\\\", name_model=\\\"video/cnn_trainmodel.json\\\"\\n)\\n\\nagent_fc = DQN_FC(size, lr=0.1, epsilon=0.1, memory_size=2000, batch_size=32)\\nagent_fc.load(\\n    name_weights=\\\"video/fc_trainmodel.h5\\\", name_model=\\\"video/fc_trainmodel.json\\\"\\n)\\n\\nprint(\\\"Test of the CNN\\\")\\ntest(agent_cnn, env, epochs_test, prefix=\\\"video/cnn_test\\\")\\n\\nprint(\\\"Test of the FC\\\")\\ntest(agent_fc, env, epochs_test, prefix=\\\"video/fc_test\\\")\";\n",
       "                var nbb_cells = Jupyter.notebook.get_cells();\n",
       "                for (var i = 0; i < nbb_cells.length; ++i) {\n",
       "                    if (nbb_cells[i].input_prompt_number == nbb_cell_id) {\n",
       "                        if (nbb_cells[i].get_text() == nbb_unformatted_code) {\n",
       "                             nbb_cells[i].set_text(nbb_formatted_code);\n",
       "                        }\n",
       "                        break;\n",
       "                    }\n",
       "                }\n",
       "            }, 500);\n",
       "            "
      ],
      "text/plain": [
       "<IPython.core.display.Javascript object>"
      ]
     },
     "metadata": {},
     "output_type": "display_data"
    }
   ],
   "source": [
    "# parameters\n",
    "epochs_test = 10\n",
    "temperature = 0.5\n",
    "\n",
    "env = Environment(grid_size=size, max_time=T, temperature=temperature)\n",
    "\n",
    "agent_cnn = DQN_CNN(size, lr=0.1, epsilon=0.1, memory_size=2000, batch_size=32)\n",
    "agent_cnn.load(\n",
    "    name_weights=\"video/cnn_trainmodel.h5\", name_model=\"video/cnn_trainmodel.json\"\n",
    ")\n",
    "\n",
    "agent_fc = DQN_FC(size, lr=0.1, epsilon=0.1, memory_size=2000, batch_size=32)\n",
    "agent_fc.load(\n",
    "    name_weights=\"video/fc_trainmodel.h5\", name_model=\"video/fc_trainmodel.json\"\n",
    ")\n",
    "\n",
    "print(\"Test of the CNN\")\n",
    "test(agent_cnn, env, epochs_test, prefix=\"video/cnn_test\")\n",
    "\n",
    "print(\"Test of the FC\")\n",
    "test(agent_fc, env, epochs_test, prefix=\"video/fc_test\")"
   ]
  },
  {
   "cell_type": "code",
   "execution_count": 18,
   "metadata": {
    "ExecuteTime": {
     "end_time": "2020-02-23T12:30:18.815867Z",
     "start_time": "2020-02-23T12:30:18.809467Z"
    }
   },
   "outputs": [
    {
     "data": {
      "text/html": [
       "<video alt=\"test\" controls>\n",
       "                <source src=\"data:video/mp4;base64,AAAAIGZ0eXBpc29tAAACAGlzb21pc28yYXZjMW1wNDEAAAAIZnJlZQAAFo1tZGF0AAACnwYF//+b3EXpvebZSLeWLNgg2SPu73gyNjQgLSBjb3JlIDE1MiAtIEguMjY0L01QRUctNCBBVkMgY29kZWMgLSBDb3B5bGVmdCAyMDAzLTIwMTcgLSBodHRwOi8vd3d3LnZpZGVvbGFuLm9yZy94MjY0Lmh0bWwgLSBvcHRpb25zOiBjYWJhYz0xIHJlZj0zIGRlYmxvY2s9MTowOjAgYW5hbHlzZT0weDE6MHgxMTEgbWU9aGV4IHN1Ym1lPTcgcHN5PTEgcHN5X3JkPTEuMDA6MC4wMCBtaXhlZF9yZWY9MSBtZV9yYW5nZT0xNiBjaHJvbWFfbWU9MSB0cmVsbGlzPTEgOHg4ZGN0PTAgY3FtPTAgZGVhZHpvbmU9MjEsMTEgZmFzdF9wc2tpcD0xIGNocm9tYV9xcF9vZmZzZXQ9NCB0aHJlYWRzPTggbG9va2FoZWFkX3RocmVhZHM9MSBzbGljZWRfdGhyZWFkcz0wIG5yPTAgZGVjaW1hdGU9MSBpbnRlcmxhY2VkPTAgYmx1cmF5X2NvbXBhdD0wIGNvbnN0cmFpbmVkX2ludHJhPTAgYmZyYW1lcz0zIGJfcHlyYW1pZD0yIGJfYWRhcHQ9MSBiX2JpYXM9MCBkaXJlY3Q9MSB3ZWlnaHRiPTEgb3Blbl9nb3A9MCB3ZWlnaHRwPTIga2V5aW50PTI1MCBrZXlpbnRfbWluPTI1IHNjZW5lY3V0PTQwIGludHJhX3JlZnJlc2g9MCByY19sb29rYWhlYWQ9NDAgcmM9Y3JmIG1idHJlZT0xIGNyZj0yMy4wIHFjb21wPTAuNjAgcXBtaW49MCBxcG1heD02OSBxcHN0ZXA9NCBpcF9yYXRpbz0xLjQwIGFxPTE6MS4wMACAAAADWmWIhAA3//72h/gU2VgT/lm//Q1/3I/bj6z9cWMhBN9aryHowBkvtR/m/6xRbOmelAf34AiUAHNuGcKR2SeOovVZBjg+BTV0nV8CkoTz+x2ykjpSqdEltaMAbQfJiW+jWnQm/mPT/cCkTwlwUtXHINp7pzHzECjYUVcfWPvrfLNE2DBTUdcH3CMKyrm7Hcd518fiZmMMn6ApTDSNUJRO2j9shD2SyudEL2DDufk6NQ7kaRM0OimmAOqS++Ly42KIF43zBUXi0C6SPSQbP9fT1EEzaCORWtcdzaVxu41LHi4Y5NyYlyw1S4exlAT1S80bkXoGG1OaJ7iQLajiNmURQdIJYg/diMeuqRHcQAnQm+SY3bFrTnn8Mi5Kpsp+RSr2heES/BR2Pjiv3h2ovLYuIbvv4xDHB2ibagijjISCDkgmc+mbuKq/ZFAJLAACXogLyTtCMV1/0zJ55L5gt/d7ktCd9rpcEOHGfMDGT13Rg99io7jXClT09M890+LkJ0OBFtk+a0z0AAkZZab5E6S4O40m72hQuQrgirjA8a3ZqXDNRZorh1PrID4229GCj1GRr4tDnQEWuo+D/QnHN/1P8d2LvpYxpEc0T80OU2DNlJHbdRxbh42hDeZusYynRQVTiXZ1mJQcRWUUNdoy/q+cS3VAusgswIBkLR6qMzg5Gk+JhrVbViVLPEZn/fAKNxMBYigCOgbeERCo6REtO5AGKCqoEJZTHreqbdtCRwejPt3T+qAcORQSJdfuefe7nH3/P/4khACpF4ZMuq5ozhLuvi47ezFizjnbO/0iwB4geP/iCq70hCgoDTFWW7JpHrKaavsTY6O5r1EAhvuSNQJyIRWuANyQRTu7xggAg++ctnm5O8SRTcR0yEV8TghylpXquSxosaWFhlsmU2XsS7pDAv3LYYrZfnVYaMxP+v2EUDdxjHVAWEyGVJGQQRyug8RICPLCv49Xn+IiBTCWe8LaeQtZ7fXV0KXo+2UMph+pbEXo6KB3ogQj9iBh0tgIkTtbF0IVEtc801T7C+SAPezqJmH4uUPlad0Y9JkICk8gXOJlu+FHJN+qsdKSxvzoa6xBlkqvAB+lUBqQhmuEpaPv1n6BMJvCPuqAASW7cTnQHAxipb3eYw2QAAA94QAAABRBmiFsQ3/+p4QAm3x0+qIoSHCtgAAAAB1BmkU8IZMphDP//p4QAZP19+m16fXI3ZrnK1KD4QAAABBBnmNqU8L/ADy/aFDILdBAAAAAEAGegnRCvwBULR3lbKHpRYEAAAAPAZ6EakK/ADV5ybrPVnt3AAAAGUGahkmoQWiZTAhv//6nhABDR8x5GJ/lt3EAAAAfQZqoSeEKUmUwURLDf/6nhABr3VqmP9VvmPdfHWwHgQAAABABnsdqQr8AWKx5bhs2pt+AAAAAHkGayknhDomUwUTDP/6eEAKdXua45+j7g7L+/m2z4AAAAA8BnulqQr8Aiuzy3DZtTRsAAAAkQZrsSeEPJlMFPDP//p4QAsFfg75sq3BxdR989fqv2jGawhtoAAAAEAGfC2pCvwCS7EeS5nyS9oAAAAAYQZsNSeEPJlMCGf/+nhAC017jQum+62zdAAAAGEGbLknhDyZTAhn//p4QBFDhHP0YDsz7FwAAABlBm09J4Q8mUwIb//6nhAIFAFm2VDT9RI+BAAAAH0GbcUnhDyZTBRE8M//+nhAIEQ5VuKo338d332zXzAgAAAAQAZ+QakK/AXWlG80xVtG8IAAAABhBm5JJ4Q8mUwIb//6nhAEsHzHkYn+W2U0AAAAfQZu0SeEPJlMFETwz//6eEAkC9zXHPyNqh+ZzfYzXEAAAABABn9NqQr8BiXaluGzamMuAAAAAGUGb1UnhDyZTAhv//qeEAoe9/cyKAHA+OmEAAAAdQZv3SeEPJlMFETwz//6eEAmndN9I/RreLYKnraAAAAAQAZ4WakK/AZMltOvAE/kzgQAAABhBmhhJ4Q8mUwIZ//6eEAMj6+7tObuLbF0AAAAeQZo6SeEPJlMFETwz//6eEAMP6+/Ta9zHOdNipsE4AAAAEAGeWWpCvwCjtfOdaGF4rMEAAAAYQZpbSeEPJlMCGf/+nhAB5/X38iRH1hG9AAAAGEGafEnhDyZTAhn//p4QAT/3TfRUrNfAtwAAABhBmp1J4Q8mUwIZ//6eEADO+vv5EiPrCg8AAAAZQZq+SeEPJlMCG//+p4QAId8dPqONCQ5iwAAAABlBmt9J4Q8mUwIb//6nhAAWP3U/UcaEh0vAAAAAGUGa4EnhDyZTAh3//qmWAAcn2l4WoJ/YPGEAAAAbQZsESeEPJlMCHf/+qZYABsoLMWm4xT7MfsbmAAAAEEGfIkURPC//AAfxOoziMJkAAAAQAZ9BdEK/AAs9tbsuq/hIIAAAABABn0NqQr8ACz21thnq0B6BAAAAE0GbSEmoQWiZTAh3//6plgAAlYEAAAAMQZ9mRREsL/8AALKBAAAAEAGfhXRCvwALPbW3TsuzH4EAAAAQAZ+HakK/AAs9tbYZ6tAegAAAABNBm4xJqEFsmUwId//+qZYAAJWAAAAADEGfqkUVLC//AACygQAAABABn8l0Qr8ACz21t07Lsx+AAAAAEAGfy2pCvwALPbW2GerQHoAAAAATQZvQSahBbJlMCHf//qmWAACVgQAAAAxBn+5FFSwv/wAAsoEAAAAQAZ4NdEK/AAs9tbdOy7MfgQAAABABng9qQr8ACz21thnq0B6AAAAAE0GaFEmoQWyZTAh3//6plgAAlYAAAAAMQZ4yRRUsL/8AALKBAAAAEAGeUXRCvwALPbW3TsuzH4AAAAAQAZ5TakK/AAs9tbYZ6tAegAAAABNBmlhJqEFsmUwId//+qZYAAJWBAAAADEGedkUVLC//AACygAAAABABnpV0Qr8ACz21t07Lsx+BAAAAEAGel2pCvwALPbW2GerQHoEAAAATQZqcSahBbJlMCHf//qmWAACVgAAAAAxBnrpFFSwv/wAAsoEAAAAQAZ7ZdEK/AAs9tbdOy7MfgAAAABABnttqQr8ACz21thnq0B6BAAAAE0GawEmoQWyZTAh3//6plgAAlYEAAAAMQZ7+RRUsL/8AALKAAAAAEAGfHXRCvwALPbW3TsuzH4AAAAAQAZ8fakK/AAs9tbYZ6tAegQAAABNBmwRJqEFsmUwId//+qZYAAJWAAAAADEGfIkUVLC//AACygQAAABABn0F0Qr8ACz21t07Lsx+AAAAAEAGfQ2pCvwALPbW2GerQHoEAAAATQZtISahBbJlMCHf//qmWAACVgQAAAAxBn2ZFFSwv/wAAsoEAAAAQAZ+FdEK/AAs9tbdOy7MfgQAAABABn4dqQr8ACz21thnq0B6AAAAAE0GbjEmoQWyZTAh3//6plgAAlYAAAAAMQZ+qRRUsL/8AALKBAAAAEAGfyXRCvwALPbW3TsuzH4AAAAAQAZ/LakK/AAs9tbYZ6tAegAAAABNBm9BJqEFsmUwId//+qZYAAJWBAAAADEGf7kUVLC//AACygQAAABABng10Qr8ACz21t07Lsx+BAAAAEAGeD2pCvwALPbW2GerQHoAAAAATQZoUSahBbJlMCHf//qmWAACVgAAAAAxBnjJFFSwv/wAAsoEAAAAQAZ5RdEK/AAs9tbdOy7MfgAAAABABnlNqQr8ACz21thnq0B6AAAAAE0GaWEmoQWyZTAh3//6plgAAlYEAAAAMQZ52RRUsL/8AALKAAAAAEAGelXRCvwALPbW3TsuzH4EAAAAQAZ6XakK/AAs9tbYZ6tAegQAAABNBmpxJqEFsmUwId//+qZYAAJWAAAAADEGeukUVLC//AACygQAAABABntl0Qr8ACz21t07Lsx+AAAAAEAGe22pCvwALPbW2GerQHoEAAAATQZrASahBbJlMCHf//qmWAACVgQAAAAxBnv5FFSwv/wAAsoAAAAAQAZ8ddEK/AAs9tbdOy7MfgAAAABABnx9qQr8ACz21thnq0B6BAAAAE0GbBEmoQWyZTAh3//6plgAAlYAAAAAMQZ8iRRUsL/8AALKBAAAAEAGfQXRCvwALPbW3TsuzH4AAAAAQAZ9DakK/AAs9tbYZ6tAegQAAABNBm0hJqEFsmUwId//+qZYAAJWBAAAADEGfZkUVLC//AACygQAAABABn4V0Qr8ACz21t07Lsx+BAAAAEAGfh2pCvwALPbW2GerQHoAAAAATQZuMSahBbJlMCHf//qmWAACVgAAAAAxBn6pFFSwv/wAAsoEAAAAQAZ/JdEK/AAs9tbdOy7MfgAAAABABn8tqQr8ACz21thnq0B6AAAAAE0Gb0EmoQWyZTAh3//6plgAAlYEAAAAMQZ/uRRUsL/8AALKBAAAAEAGeDXRCvwALPbW3TsuzH4EAAAAQAZ4PakK/AAs9tbYZ6tAegAAAABNBmhRJqEFsmUwId//+qZYAAJWAAAAADEGeMkUVLC//AACygQAAABABnlF0Qr8ACz21t07Lsx+AAAAAEAGeU2pCvwALPbW2GerQHoAAAAATQZpYSahBbJlMCHf//qmWAACVgQAAAAxBnnZFFSwv/wAAsoAAAAAQAZ6VdEK/AAs9tbdOy7MfgQAAABABnpdqQr8ACz21thnq0B6BAAAAE0GanEmoQWyZTAh3//6plgAAlYAAAAAMQZ66RRUsL/8AALKBAAAAEAGe2XRCvwALPbW3TsuzH4AAAAAQAZ7bakK/AAs9tbYZ6tAegQAAABNBmsBJqEFsmUwId//+qZYAAJWBAAAADEGe/kUVLC//AACygAAAABABnx10Qr8ACz21t07Lsx+AAAAAEAGfH2pCvwALPbW2GerQHoEAAAATQZsESahBbJlMCHf//qmWAACVgAAAAAxBnyJFFSwv/wAAsoEAAAAQAZ9BdEK/AAs9tbdOy7MfgAAAABABn0NqQr8ACz21thnq0B6BAAAAE0GbSEmoQWyZTAh3//6plgAAlYEAAAAMQZ9mRRUsL/8AALKBAAAAEAGfhXRCvwALPbW3TsuzH4EAAAAQAZ+HakK/AAs9tbYZ6tAegAAAABNBm4xJqEFsmUwId//+qZYAAJWAAAAADEGfqkUVLC//AACygQAAABABn8l0Qr8ACz21t07Lsx+AAAAAEAGfy2pCvwALPbW2GerQHoAAAAATQZvQSahBbJlMCHf//qmWAACVgQAAAAxBn+5FFSwv/wAAsoEAAAAQAZ4NdEK/AAs9tbdOy7MfgQAAABABng9qQr8ACz21thnq0B6AAAAAE0GaFEmoQWyZTAh3//6plgAAlYAAAAAMQZ4yRRUsL/8AALKBAAAAEAGeUXRCvwALPbW3TsuzH4AAAAAQAZ5TakK/AAs9tbYZ6tAegAAAABNBmlhJqEFsmUwId//+qZYAAJWBAAAADEGedkUVLC//AACygAAAABABnpV0Qr8ACz21t07Lsx+BAAAAEAGel2pCvwALPbW2GerQHoEAAAATQZqcSahBbJlMCHf//qmWAACVgAAAAAxBnrpFFSwv/wAAsoEAAAAQAZ7ZdEK/AAs9tbdOy7MfgAAAABABnttqQr8ACz21thnq0B6BAAAAE0GawEmoQWyZTAh3//6plgAAlYEAAAAMQZ7+RRUsL/8AALKAAAAAEAGfHXRCvwALPbW3TsuzH4AAAAAQAZ8fakK/AAs9tbYZ6tAegQAAABNBmwRJqEFsmUwId//+qZYAAJWAAAAADEGfIkUVLC//AACygQAAABABn0F0Qr8ACz21t07Lsx+AAAAAEAGfQ2pCvwALPbW2GerQHoEAAAATQZtISahBbJlMCHf//qmWAACVgQAAAAxBn2ZFFSwv/wAAsoEAAAAQAZ+FdEK/AAs9tbdOy7MfgQAAABABn4dqQr8ACz21thnq0B6AAAAAE0GbjEmoQWyZTAh3//6plgAAlYAAAAAMQZ+qRRUsL/8AALKBAAAAEAGfyXRCvwALPbW3TsuzH4AAAAAQAZ/LakK/AAs9tbYZ6tAegAAAABNBm9BJqEFsmUwId//+qZYAAJWBAAAADEGf7kUVLC//AACygQAAABABng10Qr8ACz21t07Lsx+BAAAAEAGeD2pCvwALPbW2GerQHoAAAAATQZoUSahBbJlMCHf//qmWAACVgAAAAAxBnjJFFSwv/wAAsoEAAAAQAZ5RdEK/AAs9tbdOy7MfgAAAABABnlNqQr8ACz21thnq0B6AAAAAE0GaWEmoQWyZTAh3//6plgAAlYEAAAAMQZ52RRUsL/8AALKAAAAAEAGelXRCvwALPbW3TsuzH4EAAAAQAZ6XakK/AAs9tbYZ6tAegQAAABNBmpxJqEFsmUwId//+qZYAAJWAAAAADEGeukUVLC//AACygQAAABABntl0Qr8ACz21t07Lsx+AAAAAEAGe22pCvwALPbW2GerQHoEAAAASQZrASahBbJlMCG///qeEAAEnAAAADEGe/kUVLC//AACygAAAABABnx10Qr8ACz21t07Lsx+AAAAAEAGfH2pCvwALPbW2GerQHoEAAAASQZsESahBbJlMCG///qeEAAEnAAAADEGfIkUVLC//AACygQAAABABn0F0Qr8ACz21t07Lsx+AAAAAEAGfQ2pCvwALPbW2GerQHoEAAAASQZtISahBbJlMCF///oywAASNAAAADEGfZkUVLC//AACygQAAABABn4V0Qr8ACz21t07Lsx+BAAAAEAGfh2pCvwALPbW2GerQHoAAAAAaQZuJS6hCEFskRggoB/IB/YeAIV/+OEAAEXAAAAxIbW9vdgAAAGxtdmhkAAAAAAAAAAAAAAAAAAAD6AAAH5AAAQAAAQAAAAAAAAAAAAAAAAEAAAAAAAAAAAAAAAAAAAABAAAAAAAAAAAAAAAAAABAAAAAAAAAAAAAAAAAAAAAAAAAAAAAAAAAAAAAAAAAAgAAC3J0cmFrAAAAXHRraGQAAAADAAAAAAAAAAAAAAABAAAAAAAAH5AAAAAAAAAAAAAAAAAAAAAAAAEAAAAAAAAAAAAAAAAAAAABAAAAAAAAAAAAAAAAAABAAAAAARAAAAEQAAAAAAAkZWR0cwAAABxlbHN0AAAAAAAAAAEAAB+QAAAEAAABAAAAAArqbWRpYQAAACBtZGhkAAAAAAAAAAAAAAAAAAAyAAABlABVxAAAAAAALWhkbHIAAAAAAAAAAHZpZGUAAAAAAAAAAAAAAABWaWRlb0hhbmRsZXIAAAAKlW1pbmYAAAAUdm1oZAAAAAEAAAAAAAAAAAAAACRkaW5mAAAAHGRyZWYAAAAAAAAAAQAAAAx1cmwgAAAAAQAAClVzdGJsAAAAlXN0c2QAAAAAAAAAAQAAAIVhdmMxAAAAAAAAAAEAAAAAAAAAAAAAAAAAAAAAARABEABIAAAASAAAAAAAAAABAAAAAAAAAAAAAAAAAAAAAAAAAAAAAAAAAAAAAAAAAAAAGP//AAAAL2F2Y0MB9AAN/+EAF2f0AA2RmygiEdCAAAADAIAAABkHihTLAQAFaOvjxEgAAAAYc3R0cwAAAAAAAAABAAAAygAAAgAAAAAUc3RzcwAAAAAAAAABAAAAAQAABiBjdHRzAAAAAAAAAMIAAAACAAAEAAAAAAEAAAoAAAAAAQAABAAAAAABAAAAAAAAAAEAAAIAAAAAAQAABAAAAAABAAAGAAAAAAEAAAIAAAAAAQAABgAAAAABAAACAAAAAAEAAAYAAAAAAQAAAgAAAAADAAAEAAAAAAEAAAYAAAAAAQAAAgAAAAABAAAEAAAAAAEAAAYAAAAAAQAAAgAAAAABAAAEAAAAAAEAAAYAAAAAAQAAAgAAAAABAAAEAAAAAAEAAAYAAAAAAQAAAgAAAAAGAAAEAAAAAAEAAAoAAAAAAQAABAAAAAABAAAAAAAAAAEAAAIAAAAAAQAACgAAAAABAAAEAAAAAAEAAAAAAAAAAQAAAgAAAAABAAAKAAAAAAEAAAQAAAAAAQAAAAAAAAABAAACAAAAAAEAAAoAAAAAAQAABAAAAAABAAAAAAAAAAEAAAIAAAAAAQAACgAAAAABAAAEAAAAAAEAAAAAAAAAAQAAAgAAAAABAAAKAAAAAAEAAAQAAAAAAQAAAAAAAAABAAACAAAAAAEAAAoAAAAAAQAABAAAAAABAAAAAAAAAAEAAAIAAAAAAQAACgAAAAABAAAEAAAAAAEAAAAAAAAAAQAAAgAAAAABAAAKAAAAAAEAAAQAAAAAAQAAAAAAAAABAAACAAAAAAEAAAoAAAAAAQAABAAAAAABAAAAAAAAAAEAAAIAAAAAAQAACgAAAAABAAAEAAAAAAEAAAAAAAAAAQAAAgAAAAABAAAKAAAAAAEAAAQAAAAAAQAAAAAAAAABAAACAAAAAAEAAAoAAAAAAQAABAAAAAABAAAAAAAAAAEAAAIAAAAAAQAACgAAAAABAAAEAAAAAAEAAAAAAAAAAQAAAgAAAAABAAAKAAAAAAEAAAQAAAAAAQAAAAAAAAABAAACAAAAAAEAAAoAAAAAAQAABAAAAAABAAAAAAAAAAEAAAIAAAAAAQAACgAAAAABAAAEAAAAAAEAAAAAAAAAAQAAAgAAAAABAAAKAAAAAAEAAAQAAAAAAQAAAAAAAAABAAACAAAAAAEAAAoAAAAAAQAABAAAAAABAAAAAAAAAAEAAAIAAAAAAQAACgAAAAABAAAEAAAAAAEAAAAAAAAAAQAAAgAAAAABAAAKAAAAAAEAAAQAAAAAAQAAAAAAAAABAAACAAAAAAEAAAoAAAAAAQAABAAAAAABAAAAAAAAAAEAAAIAAAAAAQAACgAAAAABAAAEAAAAAAEAAAAAAAAAAQAAAgAAAAABAAAKAAAAAAEAAAQAAAAAAQAAAAAAAAABAAACAAAAAAEAAAoAAAAAAQAABAAAAAABAAAAAAAAAAEAAAIAAAAAAQAACgAAAAABAAAEAAAAAAEAAAAAAAAAAQAAAgAAAAABAAAKAAAAAAEAAAQAAAAAAQAAAAAAAAABAAACAAAAAAEAAAoAAAAAAQAABAAAAAABAAAAAAAAAAEAAAIAAAAAAQAACgAAAAABAAAEAAAAAAEAAAAAAAAAAQAAAgAAAAABAAAKAAAAAAEAAAQAAAAAAQAAAAAAAAABAAACAAAAAAEAAAoAAAAAAQAABAAAAAABAAAAAAAAAAEAAAIAAAAAAQAACgAAAAABAAAEAAAAAAEAAAAAAAAAAQAAAgAAAAABAAAKAAAAAAEAAAQAAAAAAQAAAAAAAAABAAACAAAAAAEAAAoAAAAAAQAABAAAAAABAAAAAAAAAAEAAAIAAAAAAQAACgAAAAABAAAEAAAAAAEAAAAAAAAAAQAAAgAAAAABAAAKAAAAAAEAAAQAAAAAAQAAAAAAAAABAAACAAAAAAEAAAoAAAAAAQAABAAAAAABAAAAAAAAAAEAAAIAAAAAAQAACgAAAAABAAAEAAAAAAEAAAAAAAAAAQAAAgAAAAABAAAKAAAAAAEAAAQAAAAAAQAAAAAAAAABAAACAAAAAAEAAAoAAAAAAQAABAAAAAABAAAAAAAAAAEAAAIAAAAAAQAACgAAAAABAAAEAAAAAAEAAAAAAAAAAQAAAgAAAAABAAAKAAAAAAEAAAQAAAAAAQAAAAAAAAABAAACAAAAAAEAAAQAAAAAHHN0c2MAAAAAAAAAAQAAAAEAAADKAAAAAQAAAzxzdHN6AAAAAAAAAAAAAADKAAAGAQAAABgAAAAhAAAAFAAAABQAAAATAAAAHQAAACMAAAAUAAAAIgAAABMAAAAoAAAAFAAAABwAAAAcAAAAHQAAACMAAAAUAAAAHAAAACMAAAAUAAAAHQAAACEAAAAUAAAAHAAAACIAAAAUAAAAHAAAABwAAAAcAAAAHQAAAB0AAAAdAAAAHwAAABQAAAAUAAAAFAAAABcAAAAQAAAAFAAAABQAAAAXAAAAEAAAABQAAAAUAAAAFwAAABAAAAAUAAAAFAAAABcAAAAQAAAAFAAAABQAAAAXAAAAEAAAABQAAAAUAAAAFwAAABAAAAAUAAAAFAAAABcAAAAQAAAAFAAAABQAAAAXAAAAEAAAABQAAAAUAAAAFwAAABAAAAAUAAAAFAAAABcAAAAQAAAAFAAAABQAAAAXAAAAEAAAABQAAAAUAAAAFwAAABAAAAAUAAAAFAAAABcAAAAQAAAAFAAAABQAAAAXAAAAEAAAABQAAAAUAAAAFwAAABAAAAAUAAAAFAAAABcAAAAQAAAAFAAAABQAAAAXAAAAEAAAABQAAAAUAAAAFwAAABAAAAAUAAAAFAAAABcAAAAQAAAAFAAAABQAAAAXAAAAEAAAABQAAAAUAAAAFwAAABAAAAAUAAAAFAAAABcAAAAQAAAAFAAAABQAAAAXAAAAEAAAABQAAAAUAAAAFwAAABAAAAAUAAAAFAAAABcAAAAQAAAAFAAAABQAAAAXAAAAEAAAABQAAAAUAAAAFwAAABAAAAAUAAAAFAAAABcAAAAQAAAAFAAAABQAAAAXAAAAEAAAABQAAAAUAAAAFwAAABAAAAAUAAAAFAAAABcAAAAQAAAAFAAAABQAAAAXAAAAEAAAABQAAAAUAAAAFwAAABAAAAAUAAAAFAAAABcAAAAQAAAAFAAAABQAAAAXAAAAEAAAABQAAAAUAAAAFwAAABAAAAAUAAAAFAAAABcAAAAQAAAAFAAAABQAAAAXAAAAEAAAABQAAAAUAAAAFgAAABAAAAAUAAAAFAAAABYAAAAQAAAAFAAAABQAAAAWAAAAEAAAABQAAAAUAAAAHgAAABRzdGNvAAAAAAAAAAEAAAAwAAAAYnVkdGEAAABabWV0YQAAAAAAAAAhaGRscgAAAAAAAAAAbWRpcmFwcGwAAAAAAAAAAAAAAAAtaWxzdAAAACWpdG9vAAAAHWRhdGEAAAABAAAAAExhdmY1OC4yMC4xMDA=\" type=\"video/mp4\" />\n",
       "             </video>"
      ],
      "text/plain": [
       "<IPython.core.display.HTML object>"
      ]
     },
     "execution_count": 18,
     "metadata": {},
     "output_type": "execute_result"
    },
    {
     "data": {
      "application/javascript": [
       "\n",
       "            setTimeout(function() {\n",
       "                var nbb_cell_id = 18;\n",
       "                var nbb_unformatted_code = \"HTML(display_videos(\\\"video/cnn_test0.mp4\\\"))\";\n",
       "                var nbb_formatted_code = \"HTML(display_videos(\\\"video/cnn_test0.mp4\\\"))\";\n",
       "                var nbb_cells = Jupyter.notebook.get_cells();\n",
       "                for (var i = 0; i < nbb_cells.length; ++i) {\n",
       "                    if (nbb_cells[i].input_prompt_number == nbb_cell_id) {\n",
       "                        if (nbb_cells[i].get_text() == nbb_unformatted_code) {\n",
       "                             nbb_cells[i].set_text(nbb_formatted_code);\n",
       "                        }\n",
       "                        break;\n",
       "                    }\n",
       "                }\n",
       "            }, 500);\n",
       "            "
      ],
      "text/plain": [
       "<IPython.core.display.Javascript object>"
      ]
     },
     "metadata": {},
     "output_type": "display_data"
    }
   ],
   "source": [
    "HTML(display_videos(\"video/cnn_test0.mp4\"))"
   ]
  },
  {
   "cell_type": "code",
   "execution_count": 19,
   "metadata": {
    "ExecuteTime": {
     "end_time": "2020-02-23T12:30:18.824815Z",
     "start_time": "2020-02-23T12:30:18.817911Z"
    }
   },
   "outputs": [
    {
     "data": {
      "text/html": [
       "<video alt=\"test\" controls>\n",
       "                <source src=\"data:video/mp4;base64,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\" type=\"video/mp4\" />\n",
       "             </video>"
      ],
      "text/plain": [
       "<IPython.core.display.HTML object>"
      ]
     },
     "execution_count": 19,
     "metadata": {},
     "output_type": "execute_result"
    },
    {
     "data": {
      "application/javascript": [
       "\n",
       "            setTimeout(function() {\n",
       "                var nbb_cell_id = 19;\n",
       "                var nbb_unformatted_code = \"HTML(display_videos(\\\"video/fc_test0.mp4\\\"))\";\n",
       "                var nbb_formatted_code = \"HTML(display_videos(\\\"video/fc_test0.mp4\\\"))\";\n",
       "                var nbb_cells = Jupyter.notebook.get_cells();\n",
       "                for (var i = 0; i < nbb_cells.length; ++i) {\n",
       "                    if (nbb_cells[i].input_prompt_number == nbb_cell_id) {\n",
       "                        if (nbb_cells[i].get_text() == nbb_unformatted_code) {\n",
       "                             nbb_cells[i].set_text(nbb_formatted_code);\n",
       "                        }\n",
       "                        break;\n",
       "                    }\n",
       "                }\n",
       "            }, 500);\n",
       "            "
      ],
      "text/plain": [
       "<IPython.core.display.Javascript object>"
      ]
     },
     "metadata": {},
     "output_type": "display_data"
    }
   ],
   "source": [
    "HTML(display_videos(\"video/fc_test0.mp4\"))"
   ]
  },
  {
   "cell_type": "markdown",
   "metadata": {},
   "source": [
    "The fully-connected model seems to perform better than the convolutional model.\n",
    "\n",
    "I observe that once the model has eaten all the cheese that was in his visible space, it tends to stay where it currently is without doing anything other than walking bath and forth between two squares.\n",
    "\n",
    "We can \"fix\" this behavior by changing the game: if we increase the temperature, there is more cheese on the board, and thus, the agent will tend to discover new pieces of cheese when walking towards the pieces of cheese it can see."
   ]
  },
  {
   "cell_type": "markdown",
   "metadata": {},
   "source": [
    "***\n",
    "\n",
    "The algorithm tends to not explore the map which can be an issue. We propose two ideas in order to encourage exploration:\n",
    "1. Incorporating a decreasing $\\epsilon$-greedy exploration. You can use the method ```set_epsilon```\n",
    "2. Append via the environment a new state that describes if a cell has been visited or not\n",
    "\n",
    "***\n",
    "__Question 10__ Design a new ```train_explore``` function and environment class ```EnvironmentExploring``` to tackle the issue of exploration.\n",
    "\n"
   ]
  },
  {
   "cell_type": "code",
   "execution_count": 20,
   "metadata": {
    "ExecuteTime": {
     "end_time": "2020-02-23T12:30:19.004154Z",
     "start_time": "2020-02-23T12:30:18.826872Z"
    }
   },
   "outputs": [
    {
     "data": {
      "application/javascript": [
       "\n",
       "            setTimeout(function() {\n",
       "                var nbb_cell_id = 20;\n",
       "                var nbb_unformatted_code = \"def train_explore(agent, env, epoch, prefix=\\\"\\\"):\\n    # Number of won games\\n    score = 0\\n\\n    epsilon_start = agent.epsilon\\n    epsilon_end = 0.1\\n\\n    for e in range(1, epoch + 1):\\n        state = env.reset()\\n        game_over = False\\n\\n        # exponentially decreasing epsilon\\n        agent.set_epsilon(\\n            epsilon_end + (epsilon_start - epsilon_end) * np.exp(-(e - 1) / 10)\\n        )\\n\\n        win = 0\\n        lose = 0\\n\\n        loss = 0\\n        turns = 0\\n\\n        while not game_over:\\n\\n            # The agent performs an action\\n            action = agent.act(state)\\n\\n            # Apply an action to the environment, get the next state, the reward\\n            # and if the games end\\n            prev_state = state\\n            state, reward, game_over = env.act(action, train=True)\\n\\n            # Update the counters\\n            if reward > 0:\\n                win = win + reward\\n            if reward < 0:\\n                lose = lose - reward\\n\\n            # Apply the reinforcement strategy\\n            loss += agent.reinforce(prev_state, state, action, reward, game_over)\\n            turns += 1\\n\\n        # Save as a mp4\\n        if e % 10 == 0:\\n            env.draw(prefix + str(e))\\n\\n        # Update stats\\n        score += win - lose\\n\\n        print(\\n            \\\"Epoch {:03d}/{:03d} | Loss {:.4f} | Win/lose count {:.1f}/{:.1f} ({:.1f}) | Epsilon {:.4f}\\\".format(\\n                e, epoch, loss / turns, win, lose, win - lose, agent.epsilon\\n            )\\n        )\\n        agent.save(name_weights=prefix + \\\"model.h5\\\", name_model=prefix + \\\"model.json\\\")\\n\\n\\nclass EnvironmentExploring(EnvironmentAbstract):\\n    def __init__(self, grid_size=10, max_time=500, temperature=0.1):\\n        grid_size = grid_size + 4\\n        self.grid_size = grid_size\\n        self.max_time = max_time\\n        self.temperature = temperature\\n\\n        # board on which one plays\\n        self.board = np.zeros((grid_size, grid_size))\\n        self.position = np.zeros((grid_size, grid_size))\\n        self.malus_position = np.zeros((grid_size, grid_size))\\n\\n        # coordinate of the cat\\n        self.x = 0\\n        self.y = 1\\n\\n        # self time\\n        self.t = 0\\n\\n        self.scale = 16\\n\\n        self.to_draw = np.zeros(\\n            (max_time + 2, grid_size * self.scale, grid_size * self.scale, 3)\\n        )\\n\\n    def draw(self, e):\\n        skvideo.io.vwrite(str(e) + \\\".mp4\\\", self.to_draw)\\n\\n    def get_frame(self, t):\\n        b = np.zeros((self.grid_size, self.grid_size, 3)) + 128\\n        b[self.board > 0, 0] = 256\\n        b[self.board < 0, 2] = 256\\n        b[self.x, self.y, :] = 256\\n        b[-2:, :, :] = 0\\n        b[:, -2:, :] = 0\\n        b[:2, :, :] = 0\\n        b[:, :2, :] = 0\\n\\n        b = cv2.resize(\\n            b, None, fx=self.scale, fy=self.scale, interpolation=cv2.INTER_NEAREST\\n        )\\n\\n        self.to_draw[t, :, :, :] = b\\n\\n    def act(self, action, train=False):\\n        \\\"\\\"\\\"This function returns the new state, reward and decides if the\\n        game ends.\\\"\\\"\\\"\\n\\n        self.get_frame(int(self.t))\\n\\n        self.position = np.zeros((self.grid_size, self.grid_size))\\n\\n        self.position[0:2, :] = -1\\n        self.position[:, 0:2] = -1\\n        self.position[-2:, :] = -1\\n        self.position[-2:, :] = -1\\n\\n        self.position[self.x, self.y] = 1\\n        if action == 0:\\n            if self.x == self.grid_size - 3:\\n                self.x = self.x - 1\\n            else:\\n                self.x = self.x + 1\\n        elif action == 1:\\n            if self.x == 2:\\n                self.x = self.x + 1\\n            else:\\n                self.x = self.x - 1\\n        elif action == 2:\\n            if self.y == self.grid_size - 3:\\n                self.y = self.y - 1\\n            else:\\n                self.y = self.y + 1\\n        elif action == 3:\\n            if self.y == 2:\\n                self.y = self.y + 1\\n            else:\\n                self.y = self.y - 1\\n        else:\\n            RuntimeError(\\\"Error: action not recognized\\\")\\n\\n        self.t = self.t + 1\\n\\n        # during train, reward is now a sum of the \\\"real\\\" reward and a \\\"fake\\\" term that\\n        # encourages exploration\\n        reward = (\\n            self.board[self.x, self.y] - train * self.malus_position[self.x, self.y]\\n        )\\n\\n        self.board[self.x, self.y] = 0\\n\\n        # at every visit of [x,y], we increase the malus by 0.1, but we keep it below\\n        # 0.5 because we want re-visiting a place to be cheaper that eating a real malus\\n        self.malus_position[self.x, self.y] += 0.1\\n        self.malus_position = np.clip(self.malus_position, a_min=0, a_max=0.4)\\n\\n        game_over = self.t > self.max_time\\n\\n        state = np.concatenate(\\n            (\\n                self.malus_position.reshape(self.grid_size, self.grid_size, 1),\\n                self.board.reshape(self.grid_size, self.grid_size, 1),\\n                self.position.reshape(self.grid_size, self.grid_size, 1),\\n            ),\\n            axis=2,\\n        )\\n        state = state[self.x - 2 : self.x + 3, self.y - 2 : self.y + 3, :]\\n        return state, reward, game_over\\n\\n    def reset(self):\\n        \\\"\\\"\\\"This function resets the game and returns the initial state\\\"\\\"\\\"\\n\\n        self.x = np.random.randint(3, self.grid_size - 3, size=1)[0]\\n        self.y = np.random.randint(3, self.grid_size - 3, size=1)[0]\\n\\n        bonus = 0.5 * np.random.binomial(1, self.temperature, size=self.grid_size ** 2)\\n        bonus = bonus.reshape(self.grid_size, self.grid_size)\\n\\n        malus = -1.0 * np.random.binomial(1, self.temperature, size=self.grid_size ** 2)\\n        malus = malus.reshape(self.grid_size, self.grid_size)\\n\\n        self.to_draw = np.zeros(\\n            (\\n                self.max_time + 2,\\n                self.grid_size * self.scale,\\n                self.grid_size * self.scale,\\n                3,\\n            )\\n        )\\n\\n        malus[bonus > 0] = 0\\n\\n        self.board = bonus + malus\\n\\n        self.position = np.zeros((self.grid_size, self.grid_size))\\n        self.position[0:2, :] = -1\\n        self.position[:, 0:2] = -1\\n        self.position[-2:, :] = -1\\n        self.position[-2:, :] = -1\\n\\n        self.malus_position = np.zeros((self.grid_size, self.grid_size))\\n        self.malus_position[self.x, self.y] = 0.1\\n\\n        self.board[self.x, self.y] = 0\\n        self.t = 0\\n\\n        state = np.concatenate(\\n            (\\n                self.malus_position.reshape(self.grid_size, self.grid_size, 1),\\n                self.board.reshape(self.grid_size, self.grid_size, 1),\\n                self.position.reshape(self.grid_size, self.grid_size, 1),\\n            ),\\n            axis=2,\\n        )\\n\\n        state = state[self.x - 2 : self.x + 3, self.y - 2 : self.y + 3, :]\\n        return state\";\n",
       "                var nbb_formatted_code = \"def train_explore(agent, env, epoch, prefix=\\\"\\\"):\\n    # Number of won games\\n    score = 0\\n\\n    epsilon_start = agent.epsilon\\n    epsilon_end = 0.1\\n\\n    for e in range(1, epoch + 1):\\n        state = env.reset()\\n        game_over = False\\n\\n        # exponentially decreasing epsilon\\n        agent.set_epsilon(\\n            epsilon_end + (epsilon_start - epsilon_end) * np.exp(-(e - 1) / 10)\\n        )\\n\\n        win = 0\\n        lose = 0\\n\\n        loss = 0\\n        turns = 0\\n\\n        while not game_over:\\n\\n            # The agent performs an action\\n            action = agent.act(state)\\n\\n            # Apply an action to the environment, get the next state, the reward\\n            # and if the games end\\n            prev_state = state\\n            state, reward, game_over = env.act(action, train=True)\\n\\n            # Update the counters\\n            if reward > 0:\\n                win = win + reward\\n            if reward < 0:\\n                lose = lose - reward\\n\\n            # Apply the reinforcement strategy\\n            loss += agent.reinforce(prev_state, state, action, reward, game_over)\\n            turns += 1\\n\\n        # Save as a mp4\\n        if e % 10 == 0:\\n            env.draw(prefix + str(e))\\n\\n        # Update stats\\n        score += win - lose\\n\\n        print(\\n            \\\"Epoch {:03d}/{:03d} | Loss {:.4f} | Win/lose count {:.1f}/{:.1f} ({:.1f}) | Epsilon {:.4f}\\\".format(\\n                e, epoch, loss / turns, win, lose, win - lose, agent.epsilon\\n            )\\n        )\\n        agent.save(name_weights=prefix + \\\"model.h5\\\", name_model=prefix + \\\"model.json\\\")\\n\\n\\nclass EnvironmentExploring(EnvironmentAbstract):\\n    def __init__(self, grid_size=10, max_time=500, temperature=0.1):\\n        grid_size = grid_size + 4\\n        self.grid_size = grid_size\\n        self.max_time = max_time\\n        self.temperature = temperature\\n\\n        # board on which one plays\\n        self.board = np.zeros((grid_size, grid_size))\\n        self.position = np.zeros((grid_size, grid_size))\\n        self.malus_position = np.zeros((grid_size, grid_size))\\n\\n        # coordinate of the cat\\n        self.x = 0\\n        self.y = 1\\n\\n        # self time\\n        self.t = 0\\n\\n        self.scale = 16\\n\\n        self.to_draw = np.zeros(\\n            (max_time + 2, grid_size * self.scale, grid_size * self.scale, 3)\\n        )\\n\\n    def draw(self, e):\\n        skvideo.io.vwrite(str(e) + \\\".mp4\\\", self.to_draw)\\n\\n    def get_frame(self, t):\\n        b = np.zeros((self.grid_size, self.grid_size, 3)) + 128\\n        b[self.board > 0, 0] = 256\\n        b[self.board < 0, 2] = 256\\n        b[self.x, self.y, :] = 256\\n        b[-2:, :, :] = 0\\n        b[:, -2:, :] = 0\\n        b[:2, :, :] = 0\\n        b[:, :2, :] = 0\\n\\n        b = cv2.resize(\\n            b, None, fx=self.scale, fy=self.scale, interpolation=cv2.INTER_NEAREST\\n        )\\n\\n        self.to_draw[t, :, :, :] = b\\n\\n    def act(self, action, train=False):\\n        \\\"\\\"\\\"This function returns the new state, reward and decides if the\\n        game ends.\\\"\\\"\\\"\\n\\n        self.get_frame(int(self.t))\\n\\n        self.position = np.zeros((self.grid_size, self.grid_size))\\n\\n        self.position[0:2, :] = -1\\n        self.position[:, 0:2] = -1\\n        self.position[-2:, :] = -1\\n        self.position[-2:, :] = -1\\n\\n        self.position[self.x, self.y] = 1\\n        if action == 0:\\n            if self.x == self.grid_size - 3:\\n                self.x = self.x - 1\\n            else:\\n                self.x = self.x + 1\\n        elif action == 1:\\n            if self.x == 2:\\n                self.x = self.x + 1\\n            else:\\n                self.x = self.x - 1\\n        elif action == 2:\\n            if self.y == self.grid_size - 3:\\n                self.y = self.y - 1\\n            else:\\n                self.y = self.y + 1\\n        elif action == 3:\\n            if self.y == 2:\\n                self.y = self.y + 1\\n            else:\\n                self.y = self.y - 1\\n        else:\\n            RuntimeError(\\\"Error: action not recognized\\\")\\n\\n        self.t = self.t + 1\\n\\n        # during train, reward is now a sum of the \\\"real\\\" reward and a \\\"fake\\\" term that\\n        # encourages exploration\\n        reward = (\\n            self.board[self.x, self.y] - train * self.malus_position[self.x, self.y]\\n        )\\n\\n        self.board[self.x, self.y] = 0\\n\\n        # at every visit of [x,y], we increase the malus by 0.1, but we keep it below\\n        # 0.5 because we want re-visiting a place to be cheaper that eating a real malus\\n        self.malus_position[self.x, self.y] += 0.1\\n        self.malus_position = np.clip(self.malus_position, a_min=0, a_max=0.4)\\n\\n        game_over = self.t > self.max_time\\n\\n        state = np.concatenate(\\n            (\\n                self.malus_position.reshape(self.grid_size, self.grid_size, 1),\\n                self.board.reshape(self.grid_size, self.grid_size, 1),\\n                self.position.reshape(self.grid_size, self.grid_size, 1),\\n            ),\\n            axis=2,\\n        )\\n        state = state[self.x - 2 : self.x + 3, self.y - 2 : self.y + 3, :]\\n        return state, reward, game_over\\n\\n    def reset(self):\\n        \\\"\\\"\\\"This function resets the game and returns the initial state\\\"\\\"\\\"\\n\\n        self.x = np.random.randint(3, self.grid_size - 3, size=1)[0]\\n        self.y = np.random.randint(3, self.grid_size - 3, size=1)[0]\\n\\n        bonus = 0.5 * np.random.binomial(1, self.temperature, size=self.grid_size ** 2)\\n        bonus = bonus.reshape(self.grid_size, self.grid_size)\\n\\n        malus = -1.0 * np.random.binomial(1, self.temperature, size=self.grid_size ** 2)\\n        malus = malus.reshape(self.grid_size, self.grid_size)\\n\\n        self.to_draw = np.zeros(\\n            (\\n                self.max_time + 2,\\n                self.grid_size * self.scale,\\n                self.grid_size * self.scale,\\n                3,\\n            )\\n        )\\n\\n        malus[bonus > 0] = 0\\n\\n        self.board = bonus + malus\\n\\n        self.position = np.zeros((self.grid_size, self.grid_size))\\n        self.position[0:2, :] = -1\\n        self.position[:, 0:2] = -1\\n        self.position[-2:, :] = -1\\n        self.position[-2:, :] = -1\\n\\n        self.malus_position = np.zeros((self.grid_size, self.grid_size))\\n        self.malus_position[self.x, self.y] = 0.1\\n\\n        self.board[self.x, self.y] = 0\\n        self.t = 0\\n\\n        state = np.concatenate(\\n            (\\n                self.malus_position.reshape(self.grid_size, self.grid_size, 1),\\n                self.board.reshape(self.grid_size, self.grid_size, 1),\\n                self.position.reshape(self.grid_size, self.grid_size, 1),\\n            ),\\n            axis=2,\\n        )\\n\\n        state = state[self.x - 2 : self.x + 3, self.y - 2 : self.y + 3, :]\\n        return state\";\n",
       "                var nbb_cells = Jupyter.notebook.get_cells();\n",
       "                for (var i = 0; i < nbb_cells.length; ++i) {\n",
       "                    if (nbb_cells[i].input_prompt_number == nbb_cell_id) {\n",
       "                        if (nbb_cells[i].get_text() == nbb_unformatted_code) {\n",
       "                             nbb_cells[i].set_text(nbb_formatted_code);\n",
       "                        }\n",
       "                        break;\n",
       "                    }\n",
       "                }\n",
       "            }, 500);\n",
       "            "
      ],
      "text/plain": [
       "<IPython.core.display.Javascript object>"
      ]
     },
     "metadata": {},
     "output_type": "display_data"
    }
   ],
   "source": [
    "def train_explore(agent, env, epoch, prefix=\"\"):\n",
    "    # Number of won games\n",
    "    score = 0\n",
    "\n",
    "    epsilon_start = agent.epsilon\n",
    "    epsilon_end = 0.1\n",
    "\n",
    "    for e in range(1, epoch + 1):\n",
    "        state = env.reset()\n",
    "        game_over = False\n",
    "\n",
    "        # exponentially decreasing epsilon\n",
    "        agent.set_epsilon(\n",
    "            epsilon_end + (epsilon_start - epsilon_end) * np.exp(-(e - 1) / 10)\n",
    "        )\n",
    "\n",
    "        win = 0\n",
    "        lose = 0\n",
    "\n",
    "        loss = 0\n",
    "        turns = 0\n",
    "\n",
    "        while not game_over:\n",
    "\n",
    "            # The agent performs an action\n",
    "            action = agent.act(state)\n",
    "\n",
    "            # Apply an action to the environment, get the next state, the reward\n",
    "            # and if the games end\n",
    "            prev_state = state\n",
    "            state, reward, game_over = env.act(action, train=True)\n",
    "\n",
    "            # Update the counters\n",
    "            if reward > 0:\n",
    "                win = win + reward\n",
    "            if reward < 0:\n",
    "                lose = lose - reward\n",
    "\n",
    "            # Apply the reinforcement strategy\n",
    "            loss += agent.reinforce(prev_state, state, action, reward, game_over)\n",
    "            turns += 1\n",
    "\n",
    "        # Save as a mp4\n",
    "        if e % 10 == 0:\n",
    "            env.draw(prefix + str(e))\n",
    "\n",
    "        # Update stats\n",
    "        score += win - lose\n",
    "\n",
    "        print(\n",
    "            \"Epoch {:03d}/{:03d} | Loss {:.4f} | Win/lose count {:.1f}/{:.1f} ({:.1f}) | Epsilon {:.4f}\".format(\n",
    "                e, epoch, loss / turns, win, lose, win - lose, agent.epsilon\n",
    "            )\n",
    "        )\n",
    "        agent.save(name_weights=prefix + \"model.h5\", name_model=prefix + \"model.json\")\n",
    "\n",
    "\n",
    "class EnvironmentExploring(EnvironmentAbstract):\n",
    "    def __init__(self, grid_size=10, max_time=500, temperature=0.1):\n",
    "        grid_size = grid_size + 4\n",
    "        self.grid_size = grid_size\n",
    "        self.max_time = max_time\n",
    "        self.temperature = temperature\n",
    "\n",
    "        # board on which one plays\n",
    "        self.board = np.zeros((grid_size, grid_size))\n",
    "        self.position = np.zeros((grid_size, grid_size))\n",
    "        self.malus_position = np.zeros((grid_size, grid_size))\n",
    "\n",
    "        # coordinate of the cat\n",
    "        self.x = 0\n",
    "        self.y = 1\n",
    "\n",
    "        # self time\n",
    "        self.t = 0\n",
    "\n",
    "        self.scale = 16\n",
    "\n",
    "        self.to_draw = np.zeros(\n",
    "            (max_time + 2, grid_size * self.scale, grid_size * self.scale, 3)\n",
    "        )\n",
    "\n",
    "    def draw(self, e):\n",
    "        skvideo.io.vwrite(str(e) + \".mp4\", self.to_draw)\n",
    "\n",
    "    def get_frame(self, t):\n",
    "        b = np.zeros((self.grid_size, self.grid_size, 3)) + 128\n",
    "        b[self.board > 0, 0] = 256\n",
    "        b[self.board < 0, 2] = 256\n",
    "        b[self.x, self.y, :] = 256\n",
    "        b[-2:, :, :] = 0\n",
    "        b[:, -2:, :] = 0\n",
    "        b[:2, :, :] = 0\n",
    "        b[:, :2, :] = 0\n",
    "\n",
    "        b = cv2.resize(\n",
    "            b, None, fx=self.scale, fy=self.scale, interpolation=cv2.INTER_NEAREST\n",
    "        )\n",
    "\n",
    "        self.to_draw[t, :, :, :] = b\n",
    "\n",
    "    def act(self, action, train=False):\n",
    "        \"\"\"This function returns the new state, reward and decides if the\n",
    "        game ends.\"\"\"\n",
    "\n",
    "        self.get_frame(int(self.t))\n",
    "\n",
    "        self.position = np.zeros((self.grid_size, self.grid_size))\n",
    "\n",
    "        self.position[0:2, :] = -1\n",
    "        self.position[:, 0:2] = -1\n",
    "        self.position[-2:, :] = -1\n",
    "        self.position[-2:, :] = -1\n",
    "\n",
    "        self.position[self.x, self.y] = 1\n",
    "        if action == 0:\n",
    "            if self.x == self.grid_size - 3:\n",
    "                self.x = self.x - 1\n",
    "            else:\n",
    "                self.x = self.x + 1\n",
    "        elif action == 1:\n",
    "            if self.x == 2:\n",
    "                self.x = self.x + 1\n",
    "            else:\n",
    "                self.x = self.x - 1\n",
    "        elif action == 2:\n",
    "            if self.y == self.grid_size - 3:\n",
    "                self.y = self.y - 1\n",
    "            else:\n",
    "                self.y = self.y + 1\n",
    "        elif action == 3:\n",
    "            if self.y == 2:\n",
    "                self.y = self.y + 1\n",
    "            else:\n",
    "                self.y = self.y - 1\n",
    "        else:\n",
    "            RuntimeError(\"Error: action not recognized\")\n",
    "\n",
    "        self.t = self.t + 1\n",
    "\n",
    "        # during train, reward is now a sum of the \"real\" reward and a \"fake\" term that\n",
    "        # encourages exploration\n",
    "        reward = (\n",
    "            self.board[self.x, self.y] - train * self.malus_position[self.x, self.y]\n",
    "        )\n",
    "\n",
    "        self.board[self.x, self.y] = 0\n",
    "\n",
    "        # at every visit of [x,y], we increase the malus by 0.1, but we keep it below\n",
    "        # 0.5 because we want re-visiting a place to be cheaper that eating a real malus\n",
    "        self.malus_position[self.x, self.y] += 0.1\n",
    "        self.malus_position = np.clip(self.malus_position, a_min=0, a_max=0.4)\n",
    "\n",
    "        game_over = self.t > self.max_time\n",
    "\n",
    "        state = np.concatenate(\n",
    "            (\n",
    "                self.malus_position.reshape(self.grid_size, self.grid_size, 1),\n",
    "                self.board.reshape(self.grid_size, self.grid_size, 1),\n",
    "                self.position.reshape(self.grid_size, self.grid_size, 1),\n",
    "            ),\n",
    "            axis=2,\n",
    "        )\n",
    "        state = state[self.x - 2 : self.x + 3, self.y - 2 : self.y + 3, :]\n",
    "        return state, reward, game_over\n",
    "\n",
    "    def reset(self):\n",
    "        \"\"\"This function resets the game and returns the initial state\"\"\"\n",
    "\n",
    "        self.x = np.random.randint(3, self.grid_size - 3, size=1)[0]\n",
    "        self.y = np.random.randint(3, self.grid_size - 3, size=1)[0]\n",
    "\n",
    "        bonus = 0.5 * np.random.binomial(1, self.temperature, size=self.grid_size ** 2)\n",
    "        bonus = bonus.reshape(self.grid_size, self.grid_size)\n",
    "\n",
    "        malus = -1.0 * np.random.binomial(1, self.temperature, size=self.grid_size ** 2)\n",
    "        malus = malus.reshape(self.grid_size, self.grid_size)\n",
    "\n",
    "        self.to_draw = np.zeros(\n",
    "            (\n",
    "                self.max_time + 2,\n",
    "                self.grid_size * self.scale,\n",
    "                self.grid_size * self.scale,\n",
    "                3,\n",
    "            )\n",
    "        )\n",
    "\n",
    "        malus[bonus > 0] = 0\n",
    "\n",
    "        self.board = bonus + malus\n",
    "\n",
    "        self.position = np.zeros((self.grid_size, self.grid_size))\n",
    "        self.position[0:2, :] = -1\n",
    "        self.position[:, 0:2] = -1\n",
    "        self.position[-2:, :] = -1\n",
    "        self.position[-2:, :] = -1\n",
    "\n",
    "        self.malus_position = np.zeros((self.grid_size, self.grid_size))\n",
    "        self.malus_position[self.x, self.y] = 0.1\n",
    "\n",
    "        self.board[self.x, self.y] = 0\n",
    "        self.t = 0\n",
    "\n",
    "        state = np.concatenate(\n",
    "            (\n",
    "                self.malus_position.reshape(self.grid_size, self.grid_size, 1),\n",
    "                self.board.reshape(self.grid_size, self.grid_size, 1),\n",
    "                self.position.reshape(self.grid_size, self.grid_size, 1),\n",
    "            ),\n",
    "            axis=2,\n",
    "        )\n",
    "\n",
    "        state = state[self.x - 2 : self.x + 3, self.y - 2 : self.y + 3, :]\n",
    "        return state"
   ]
  },
  {
   "cell_type": "code",
   "execution_count": 21,
   "metadata": {
    "ExecuteTime": {
     "end_time": "2020-02-23T12:46:40.403916Z",
     "start_time": "2020-02-23T12:30:19.006680Z"
    },
    "scrolled": false
   },
   "outputs": [
    {
     "name": "stdout",
     "output_type": "stream",
     "text": [
      "Model: \"sequential_5\"\n",
      "_________________________________________________________________\n",
      "Layer (type)                 Output Shape              Param #   \n",
      "=================================================================\n",
      "conv2d_6 (Conv2D)            (None, 3, 3, 32)          896       \n",
      "_________________________________________________________________\n",
      "conv2d_7 (Conv2D)            (None, 1, 1, 16)          4624      \n",
      "_________________________________________________________________\n",
      "flatten_5 (Flatten)          (None, 16)                0         \n",
      "_________________________________________________________________\n",
      "dense_7 (Dense)              (None, 4)                 68        \n",
      "=================================================================\n",
      "Total params: 5,588\n",
      "Trainable params: 5,588\n",
      "Non-trainable params: 0\n",
      "_________________________________________________________________\n",
      "Epoch 001/100 | Loss 0.0323 | Win/lose count 12.5/43.0 (-30.5) | Epsilon 0.9500\n",
      "Epoch 002/100 | Loss 0.0135 | Win/lose count 8.5/44.2 (-35.7) | Epsilon 0.8691\n",
      "Epoch 003/100 | Loss 0.0133 | Win/lose count 9.5/42.6 (-33.1) | Epsilon 0.7959\n",
      "Epoch 004/100 | Loss 0.0105 | Win/lose count 7.5/47.8 (-40.3) | Epsilon 0.7297\n",
      "Epoch 005/100 | Loss 0.0104 | Win/lose count 11.5/43.6 (-32.1) | Epsilon 0.6698\n",
      "Epoch 006/100 | Loss 0.0098 | Win/lose count 13.5/39.8 (-26.3) | Epsilon 0.6156\n",
      "Epoch 007/100 | Loss 0.0089 | Win/lose count 20.5/33.7 (-13.2) | Epsilon 0.5665\n",
      "Epoch 008/100 | Loss 0.0102 | Win/lose count 14.0/39.5 (-25.5) | Epsilon 0.5221\n",
      "Epoch 009/100 | Loss 0.0112 | Win/lose count 12.5/39.4 (-26.9) | Epsilon 0.4819\n",
      "Epoch 010/100 | Loss 0.0090 | Win/lose count 13.0/32.8 (-19.8) | Epsilon 0.4456\n",
      "Epoch 011/100 | Loss 0.0094 | Win/lose count 20.0/26.1 (-6.1) | Epsilon 0.4127\n",
      "Epoch 012/100 | Loss 0.0094 | Win/lose count 18.0/29.4 (-11.4) | Epsilon 0.3829\n",
      "Epoch 013/100 | Loss 0.0099 | Win/lose count 16.0/24.9 (-8.9) | Epsilon 0.3560\n",
      "Epoch 014/100 | Loss 0.0102 | Win/lose count 15.5/26.1 (-10.6) | Epsilon 0.3317\n",
      "Epoch 015/100 | Loss 0.0099 | Win/lose count 19.0/28.7 (-9.7) | Epsilon 0.3096\n",
      "Epoch 016/100 | Loss 0.0114 | Win/lose count 17.5/25.3 (-7.8) | Epsilon 0.2897\n",
      "Epoch 017/100 | Loss 0.0106 | Win/lose count 20.0/27.7 (-7.7) | Epsilon 0.2716\n",
      "Epoch 018/100 | Loss 0.0084 | Win/lose count 19.0/27.9 (-8.9) | Epsilon 0.2553\n",
      "Epoch 019/100 | Loss 0.0092 | Win/lose count 19.5/24.1 (-4.6) | Epsilon 0.2405\n",
      "Epoch 020/100 | Loss 0.0094 | Win/lose count 19.0/31.1 (-12.1) | Epsilon 0.2271\n",
      "Epoch 021/100 | Loss 0.0095 | Win/lose count 18.5/23.0 (-4.5) | Epsilon 0.2150\n",
      "Epoch 022/100 | Loss 0.0107 | Win/lose count 16.0/27.1 (-11.1) | Epsilon 0.2041\n",
      "Epoch 023/100 | Loss 0.0105 | Win/lose count 13.0/46.3 (-33.3) | Epsilon 0.1942\n",
      "Epoch 024/100 | Loss 0.0099 | Win/lose count 27.5/17.6 (9.9) | Epsilon 0.1852\n",
      "Epoch 025/100 | Loss 0.0076 | Win/lose count 19.0/18.0 (1.0) | Epsilon 0.1771\n",
      "Epoch 026/100 | Loss 0.0106 | Win/lose count 17.5/19.2 (-1.7) | Epsilon 0.1698\n",
      "Epoch 027/100 | Loss 0.0084 | Win/lose count 10.5/44.5 (-34.0) | Epsilon 0.1631\n",
      "Epoch 028/100 | Loss 0.0098 | Win/lose count 22.0/15.0 (7.0) | Epsilon 0.1571\n",
      "Epoch 029/100 | Loss 0.0086 | Win/lose count 20.0/20.2 (-0.2) | Epsilon 0.1517\n",
      "Epoch 030/100 | Loss 0.0079 | Win/lose count 18.0/25.2 (-7.2) | Epsilon 0.1468\n",
      "Epoch 031/100 | Loss 0.0111 | Win/lose count 21.5/22.5 (-1.0) | Epsilon 0.1423\n",
      "Epoch 032/100 | Loss 0.0076 | Win/lose count 14.5/22.3 (-7.8) | Epsilon 0.1383\n",
      "Epoch 033/100 | Loss 0.0085 | Win/lose count 20.5/20.1 (0.4) | Epsilon 0.1346\n",
      "Epoch 034/100 | Loss 0.0121 | Win/lose count 19.0/22.7 (-3.7) | Epsilon 0.1314\n",
      "Epoch 035/100 | Loss 0.0085 | Win/lose count 26.0/19.9 (6.1) | Epsilon 0.1284\n",
      "Epoch 036/100 | Loss 0.0094 | Win/lose count 20.5/22.9 (-2.4) | Epsilon 0.1257\n",
      "Epoch 037/100 | Loss 0.0094 | Win/lose count 19.0/19.9 (-0.9) | Epsilon 0.1232\n",
      "Epoch 038/100 | Loss 0.0081 | Win/lose count 23.5/20.5 (3.0) | Epsilon 0.1210\n",
      "Epoch 039/100 | Loss 0.0094 | Win/lose count 15.5/25.4 (-9.9) | Epsilon 0.1190\n",
      "Epoch 040/100 | Loss 0.0091 | Win/lose count 12.0/36.2 (-24.2) | Epsilon 0.1172\n",
      "Epoch 041/100 | Loss 0.0092 | Win/lose count 19.5/18.1 (1.4) | Epsilon 0.1156\n",
      "Epoch 042/100 | Loss 0.0074 | Win/lose count 22.0/19.2 (2.8) | Epsilon 0.1141\n",
      "Epoch 043/100 | Loss 0.0088 | Win/lose count 23.0/19.6 (3.4) | Epsilon 0.1127\n",
      "Epoch 044/100 | Loss 0.0101 | Win/lose count 19.0/23.5 (-4.5) | Epsilon 0.1115\n",
      "Epoch 045/100 | Loss 0.0099 | Win/lose count 12.5/38.5 (-26.0) | Epsilon 0.1104\n",
      "Epoch 046/100 | Loss 0.0089 | Win/lose count 22.0/14.7 (7.3) | Epsilon 0.1094\n",
      "Epoch 047/100 | Loss 0.0099 | Win/lose count 26.0/20.5 (5.5) | Epsilon 0.1085\n",
      "Epoch 048/100 | Loss 0.0098 | Win/lose count 18.0/19.2 (-1.2) | Epsilon 0.1077\n",
      "Epoch 049/100 | Loss 0.0075 | Win/lose count 23.5/16.2 (7.3) | Epsilon 0.1070\n",
      "Epoch 050/100 | Loss 0.0112 | Win/lose count 17.5/22.2 (-4.7) | Epsilon 0.1063\n",
      "Epoch 051/100 | Loss 0.0099 | Win/lose count 19.0/22.1 (-3.1) | Epsilon 0.1057\n",
      "Epoch 052/100 | Loss 0.0111 | Win/lose count 21.5/18.1 (3.4) | Epsilon 0.1052\n",
      "Epoch 053/100 | Loss 0.0089 | Win/lose count 21.5/18.1 (3.4) | Epsilon 0.1047\n",
      "Epoch 054/100 | Loss 0.0095 | Win/lose count 28.0/21.6 (6.4) | Epsilon 0.1042\n",
      "Epoch 055/100 | Loss 0.0098 | Win/lose count 22.5/22.1 (0.4) | Epsilon 0.1038\n",
      "Epoch 056/100 | Loss 0.0083 | Win/lose count 21.5/19.3 (2.2) | Epsilon 0.1035\n",
      "Epoch 057/100 | Loss 0.0091 | Win/lose count 25.5/12.9 (12.6) | Epsilon 0.1031\n",
      "Epoch 058/100 | Loss 0.0106 | Win/lose count 20.0/30.3 (-10.3) | Epsilon 0.1028\n",
      "Epoch 059/100 | Loss 0.0080 | Win/lose count 21.0/26.4 (-5.4) | Epsilon 0.1026\n",
      "Epoch 060/100 | Loss 0.0096 | Win/lose count 17.0/23.4 (-6.4) | Epsilon 0.1023\n",
      "Epoch 061/100 | Loss 0.0093 | Win/lose count 16.5/19.7 (-3.2) | Epsilon 0.1021\n",
      "Epoch 062/100 | Loss 0.0075 | Win/lose count 25.5/17.0 (8.5) | Epsilon 0.1019\n",
      "Epoch 063/100 | Loss 0.0082 | Win/lose count 24.5/18.4 (6.1) | Epsilon 0.1017\n",
      "Epoch 064/100 | Loss 0.0089 | Win/lose count 23.0/21.5 (1.5) | Epsilon 0.1016\n",
      "Epoch 065/100 | Loss 0.0097 | Win/lose count 23.0/22.7 (0.3) | Epsilon 0.1014\n",
      "Epoch 066/100 | Loss 0.0081 | Win/lose count 18.0/22.3 (-4.3) | Epsilon 0.1013\n",
      "Epoch 067/100 | Loss 0.0078 | Win/lose count 18.0/21.1 (-3.1) | Epsilon 0.1012\n",
      "Epoch 068/100 | Loss 0.0078 | Win/lose count 18.5/23.6 (-5.1) | Epsilon 0.1010\n",
      "Epoch 069/100 | Loss 0.0068 | Win/lose count 19.0/13.7 (5.3) | Epsilon 0.1009\n",
      "Epoch 070/100 | Loss 0.0078 | Win/lose count 16.5/20.5 (-4.0) | Epsilon 0.1009\n",
      "Epoch 071/100 | Loss 0.0077 | Win/lose count 20.5/19.4 (1.1) | Epsilon 0.1008\n",
      "Epoch 072/100 | Loss 0.0080 | Win/lose count 17.5/16.7 (0.8) | Epsilon 0.1007\n",
      "Epoch 073/100 | Loss 0.0086 | Win/lose count 22.5/17.2 (5.3) | Epsilon 0.1006\n",
      "Epoch 074/100 | Loss 0.0063 | Win/lose count 20.0/29.1 (-9.1) | Epsilon 0.1006\n",
      "Epoch 075/100 | Loss 0.0082 | Win/lose count 21.5/15.6 (5.9) | Epsilon 0.1005\n",
      "Epoch 076/100 | Loss 0.0089 | Win/lose count 21.5/14.0 (7.5) | Epsilon 0.1005\n",
      "Epoch 077/100 | Loss 0.0085 | Win/lose count 26.5/17.5 (9.0) | Epsilon 0.1004\n",
      "Epoch 078/100 | Loss 0.0084 | Win/lose count 20.0/17.4 (2.6) | Epsilon 0.1004\n",
      "Epoch 079/100 | Loss 0.0088 | Win/lose count 19.0/21.6 (-2.6) | Epsilon 0.1003\n",
      "Epoch 080/100 | Loss 0.0076 | Win/lose count 21.0/20.1 (0.9) | Epsilon 0.1003\n",
      "Epoch 081/100 | Loss 0.0073 | Win/lose count 26.5/15.0 (11.5) | Epsilon 0.1003\n",
      "Epoch 082/100 | Loss 0.0094 | Win/lose count 26.5/14.8 (11.7) | Epsilon 0.1003\n",
      "Epoch 083/100 | Loss 0.0081 | Win/lose count 23.5/15.8 (7.7) | Epsilon 0.1002\n",
      "Epoch 084/100 | Loss 0.0093 | Win/lose count 18.5/20.5 (-2.0) | Epsilon 0.1002\n",
      "Epoch 085/100 | Loss 0.0075 | Win/lose count 24.0/17.7 (6.3) | Epsilon 0.1002\n",
      "Epoch 086/100 | Loss 0.0077 | Win/lose count 19.0/23.5 (-4.5) | Epsilon 0.1002\n",
      "Epoch 087/100 | Loss 0.0087 | Win/lose count 11.5/31.9 (-20.4) | Epsilon 0.1002\n",
      "Epoch 088/100 | Loss 0.0091 | Win/lose count 17.5/16.0 (1.5) | Epsilon 0.1001\n",
      "Epoch 089/100 | Loss 0.0071 | Win/lose count 18.0/39.5 (-21.5) | Epsilon 0.1001\n",
      "Epoch 090/100 | Loss 0.0082 | Win/lose count 19.5/17.9 (1.6) | Epsilon 0.1001\n",
      "Epoch 091/100 | Loss 0.0065 | Win/lose count 18.0/23.5 (-5.5) | Epsilon 0.1001\n",
      "Epoch 092/100 | Loss 0.0062 | Win/lose count 24.0/14.5 (9.5) | Epsilon 0.1001\n",
      "Epoch 093/100 | Loss 0.0076 | Win/lose count 25.5/13.3 (12.2) | Epsilon 0.1001\n"
     ]
    },
    {
     "name": "stdout",
     "output_type": "stream",
     "text": [
      "Epoch 094/100 | Loss 0.0057 | Win/lose count 19.5/21.9 (-2.4) | Epsilon 0.1001\n",
      "Epoch 095/100 | Loss 0.0081 | Win/lose count 17.5/14.8 (2.7) | Epsilon 0.1001\n",
      "Epoch 096/100 | Loss 0.0073 | Win/lose count 16.5/21.9 (-5.4) | Epsilon 0.1001\n",
      "Epoch 097/100 | Loss 0.0079 | Win/lose count 13.5/25.8 (-12.3) | Epsilon 0.1001\n",
      "Epoch 098/100 | Loss 0.0068 | Win/lose count 25.0/11.7 (13.3) | Epsilon 0.1001\n",
      "Epoch 099/100 | Loss 0.0062 | Win/lose count 23.5/14.2 (9.3) | Epsilon 0.1000\n",
      "Epoch 100/100 | Loss 0.0072 | Win/lose count 18.5/16.2 (2.3) | Epsilon 0.1000\n"
     ]
    },
    {
     "data": {
      "text/html": [
       "<video alt=\"test\" controls>\n",
       "                <source src=\"data:video/mp4;base64,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\" type=\"video/mp4\" />\n",
       "             </video>"
      ],
      "text/plain": [
       "<IPython.core.display.HTML object>"
      ]
     },
     "execution_count": 21,
     "metadata": {},
     "output_type": "execute_result"
    },
    {
     "data": {
      "application/javascript": [
       "\n",
       "            setTimeout(function() {\n",
       "                var nbb_cell_id = 21;\n",
       "                var nbb_unformatted_code = \"# parameters\\nsize = 13\\nT = 200\\ntemperature = 0.3\\nepochs_train = 100\\n\\n# Training\\nenv = EnvironmentExploring(grid_size=size, max_time=T, temperature=temperature)\\nagent = DQN_CNN(size, lr=0.1, epsilon=0.95, memory_size=2000, batch_size=32, n_state=3)\\nagent.model.summary()\\ntrain_explore(agent, env, epochs_train, prefix=\\\"video/cnn_train_explore\\\")\\nHTML(display_videos(\\\"video/cnn_train_explore10.mp4\\\"))\";\n",
       "                var nbb_formatted_code = \"# parameters\\nsize = 13\\nT = 200\\ntemperature = 0.3\\nepochs_train = 100\\n\\n# Training\\nenv = EnvironmentExploring(grid_size=size, max_time=T, temperature=temperature)\\nagent = DQN_CNN(size, lr=0.1, epsilon=0.95, memory_size=2000, batch_size=32, n_state=3)\\nagent.model.summary()\\ntrain_explore(agent, env, epochs_train, prefix=\\\"video/cnn_train_explore\\\")\\nHTML(display_videos(\\\"video/cnn_train_explore10.mp4\\\"))\";\n",
       "                var nbb_cells = Jupyter.notebook.get_cells();\n",
       "                for (var i = 0; i < nbb_cells.length; ++i) {\n",
       "                    if (nbb_cells[i].input_prompt_number == nbb_cell_id) {\n",
       "                        if (nbb_cells[i].get_text() == nbb_unformatted_code) {\n",
       "                             nbb_cells[i].set_text(nbb_formatted_code);\n",
       "                        }\n",
       "                        break;\n",
       "                    }\n",
       "                }\n",
       "            }, 500);\n",
       "            "
      ],
      "text/plain": [
       "<IPython.core.display.Javascript object>"
      ]
     },
     "metadata": {},
     "output_type": "display_data"
    }
   ],
   "source": [
    "# parameters\n",
    "size = 13\n",
    "T = 200\n",
    "temperature = 0.3\n",
    "epochs_train = 100\n",
    "\n",
    "# Training\n",
    "env = EnvironmentExploring(grid_size=size, max_time=T, temperature=temperature)\n",
    "agent = DQN_CNN(size, lr=0.1, epsilon=0.95, memory_size=2000, batch_size=32, n_state=3)\n",
    "agent.model.summary()\n",
    "train_explore(agent, env, epochs_train, prefix=\"video/cnn_train_explore\")\n",
    "HTML(display_videos(\"video/cnn_train_explore10.mp4\"))"
   ]
  },
  {
   "cell_type": "code",
   "execution_count": 25,
   "metadata": {
    "ExecuteTime": {
     "end_time": "2020-02-23T13:03:41.615599Z",
     "start_time": "2020-02-23T13:02:38.839592Z"
    }
   },
   "outputs": [
    {
     "name": "stdout",
     "output_type": "stream",
     "text": [
      "Win/lose count 23.5/1.0. Average score (22.5)\n",
      "Win/lose count 25.0/0. Average score (23.75)\n",
      "Win/lose count 23.5/0. Average score (23.666666666666668)\n",
      "Win/lose count 19.5/0. Average score (22.625)\n",
      "Win/lose count 23.0/0. Average score (22.7)\n",
      "Win/lose count 20.0/0. Average score (22.25)\n",
      "Win/lose count 25.5/0. Average score (22.714285714285715)\n",
      "Win/lose count 21.0/1.0. Average score (22.375)\n",
      "Win/lose count 17.0/0. Average score (21.77777777777778)\n",
      "Win/lose count 14.5/0. Average score (21.05)\n",
      "Win/lose count 18.5/1.0. Average score (20.727272727272727)\n",
      "Win/lose count 22.0/0. Average score (20.833333333333332)\n",
      "Win/lose count 12.0/0. Average score (20.153846153846153)\n",
      "Win/lose count 9.0/0. Average score (19.357142857142858)\n",
      "Win/lose count 16.0/1.0. Average score (19.066666666666666)\n",
      "Final score: 19.066666666666666\n"
     ]
    },
    {
     "data": {
      "text/html": [
       "<video alt=\"test\" controls>\n",
       "                <source src=\"data:video/mp4;base64,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\" type=\"video/mp4\" />\n",
       "             </video>"
      ],
      "text/plain": [
       "<IPython.core.display.HTML object>"
      ]
     },
     "execution_count": 25,
     "metadata": {},
     "output_type": "execute_result"
    },
    {
     "data": {
      "application/javascript": [
       "\n",
       "            setTimeout(function() {\n",
       "                var nbb_cell_id = 25;\n",
       "                var nbb_unformatted_code = \"# Evaluation\\nepochs_test = 15\\n\\nenv = EnvironmentExploring(grid_size=size, max_time=T, temperature=0.3)\\ntest(agent, env, epochs_test, prefix=\\\"video/cnn_test_explore\\\")\\nHTML(display_videos(\\\"video/cnn_test_explore0.mp4\\\"))\";\n",
       "                var nbb_formatted_code = \"# Evaluation\\nepochs_test = 15\\n\\nenv = EnvironmentExploring(grid_size=size, max_time=T, temperature=0.3)\\ntest(agent, env, epochs_test, prefix=\\\"video/cnn_test_explore\\\")\\nHTML(display_videos(\\\"video/cnn_test_explore0.mp4\\\"))\";\n",
       "                var nbb_cells = Jupyter.notebook.get_cells();\n",
       "                for (var i = 0; i < nbb_cells.length; ++i) {\n",
       "                    if (nbb_cells[i].input_prompt_number == nbb_cell_id) {\n",
       "                        if (nbb_cells[i].get_text() == nbb_unformatted_code) {\n",
       "                             nbb_cells[i].set_text(nbb_formatted_code);\n",
       "                        }\n",
       "                        break;\n",
       "                    }\n",
       "                }\n",
       "            }, 500);\n",
       "            "
      ],
      "text/plain": [
       "<IPython.core.display.Javascript object>"
      ]
     },
     "metadata": {},
     "output_type": "display_data"
    }
   ],
   "source": [
    "# Evaluation\n",
    "epochs_test = 15\n",
    "\n",
    "env = EnvironmentExploring(grid_size=size, max_time=T, temperature=0.3)\n",
    "test(agent, env, epochs_test, prefix=\"video/cnn_test_explore\")\n",
    "HTML(display_videos(\"video/cnn_test_explore0.mp4\"))"
   ]
  },
  {
   "cell_type": "markdown",
   "metadata": {},
   "source": [
    "***\n",
    "***\n",
    "__BONUS question__ Use the expert DQN from the previous question to generate some winning games. Train a model that mimicks its behavior. Compare the performances."
   ]
  },
  {
   "cell_type": "markdown",
   "metadata": {},
   "source": []
  },
  {
   "cell_type": "markdown",
   "metadata": {},
   "source": [
    "***"
   ]
  }
 ],
 "metadata": {
  "kernelspec": {
   "display_name": "Python 3",
   "language": "python",
   "name": "python3"
  },
  "language_info": {
   "codemirror_mode": {
    "name": "ipython",
    "version": 3
   },
   "file_extension": ".py",
   "mimetype": "text/x-python",
   "name": "python",
   "nbconvert_exporter": "python",
   "pygments_lexer": "ipython3",
   "version": "3.7.5"
  }
 },
 "nbformat": 4,
 "nbformat_minor": 2
}
